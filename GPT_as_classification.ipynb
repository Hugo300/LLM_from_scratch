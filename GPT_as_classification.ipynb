{
 "cells": [
  {
   "cell_type": "code",
   "execution_count": 1,
   "id": "fe6fd9b1",
   "metadata": {},
   "outputs": [],
   "source": [
    "import torch\n",
    "import torch.nn as nn"
   ]
  },
  {
   "cell_type": "code",
   "execution_count": 2,
   "id": "c9f58473",
   "metadata": {},
   "outputs": [],
   "source": [
    "GPT_CONFIG_124M = {\n",
    "    \"vocab_size\": 50257,\n",
    "    \"context_length\": 256,\n",
    "    \"emb_dim\": 768,\n",
    "    \"n_heads\": 12,\n",
    "    \"n_layers\": 12,\n",
    "    \"drop_rate\": 0.1,\n",
    "    \"qkv_bias\": False,\n",
    "    \"gpt_model_name\": \"\",\n",
    "    \"gpt_num_params\": \"\"\n",
    "}"
   ]
  },
  {
   "cell_type": "code",
   "execution_count": 3,
   "id": "4d35b388",
   "metadata": {},
   "outputs": [],
   "source": [
    "# Define model configurations in a dictionary for compactness\n",
    "model_configs = {\n",
    "    \"gpt2-small (124M)\": {\"emb_dim\": 768, \"n_layers\": 12, \"n_heads\": 12},\n",
    "    \"gpt2-medium (355M)\": {\"emb_dim\": 1024, \"n_layers\": 24, \"n_heads\": 16},\n",
    "    \"gpt2-large (774M)\": {\"emb_dim\": 1280, \"n_layers\": 36, \"n_heads\": 20},\n",
    "    \"gpt2-xl (1558M)\": {\"emb_dim\": 1600, \"n_layers\": 48, \"n_heads\": 25},\n",
    "}\n",
    "\n",
    "# Copy the base configuration and update with specific model settings\n",
    "model_name = \"gpt2-small (124M)\"  # Example model name\n",
    "NEW_CONFIG = GPT_CONFIG_124M.copy()\n",
    "NEW_CONFIG.update(model_configs[model_name])\n",
    "NEW_CONFIG.update({\"context_length\": 1024, \"qkv_bias\": True})\n",
    "NEW_CONFIG.update({\"gpt_model_name\": model_name, \"gpt_num_params\": \"124M\" })\n",
    "\n",
    "\n",
    "from classes.model import GPTModel\n",
    "\n",
    "gpt = GPTModel(NEW_CONFIG)\n",
    "gpt.eval();"
   ]
  },
  {
   "cell_type": "code",
   "execution_count": 4,
   "id": "10e90501",
   "metadata": {},
   "outputs": [
    {
     "name": "stdout",
     "output_type": "stream",
     "text": [
      "File already exists and is up-to-date: gpt2\\124M\\checkpoint\n",
      "File already exists and is up-to-date: gpt2\\124M\\encoder.json\n",
      "File already exists and is up-to-date: gpt2\\124M\\hparams.json\n",
      "File already exists and is up-to-date: gpt2\\124M\\model.ckpt.data-00000-of-00001\n",
      "File already exists and is up-to-date: gpt2\\124M\\model.ckpt.index\n",
      "File already exists and is up-to-date: gpt2\\124M\\model.ckpt.meta\n",
      "File already exists and is up-to-date: gpt2\\124M\\vocab.bpe\n"
     ]
    }
   ],
   "source": [
    "gpt.load_weights_gpt()"
   ]
  },
  {
   "cell_type": "code",
   "execution_count": 5,
   "id": "5998d8c3",
   "metadata": {},
   "outputs": [],
   "source": [
    "# freeze the parameters\n",
    "for param in gpt.parameters():\n",
    "    param.requires_grad = False"
   ]
  },
  {
   "cell_type": "code",
   "execution_count": 6,
   "id": "f59f3a41",
   "metadata": {},
   "outputs": [],
   "source": [
    "# replacing the head with a classification one\n",
    "torch.manual_seed(123)\n",
    "\n",
    "num_classes = 2\n",
    "gpt.output_layer = nn.Linear(NEW_CONFIG[\"emb_dim\"], num_classes)"
   ]
  },
  {
   "cell_type": "code",
   "execution_count": 7,
   "id": "0c74db10",
   "metadata": {},
   "outputs": [],
   "source": [
    "# unfreeze the last n transformer blocks for retrainning\n",
    "for param in gpt.final_norm.parameters():\n",
    "    param.requires_grad = True\n",
    "\n",
    "n_retrain_transformers = 2\n",
    "for param in gpt.trf_blocks[-n_retrain_transformers].parameters():\n",
    "    param.requires_grad = True"
   ]
  },
  {
   "cell_type": "code",
   "execution_count": 8,
   "id": "65d41db3",
   "metadata": {},
   "outputs": [],
   "source": [
    "import tiktoken\n",
    "\n",
    "tokenizer=tiktoken.get_encoding(\"gpt2\")"
   ]
  },
  {
   "cell_type": "code",
   "execution_count": 9,
   "id": "5cd1a4ac",
   "metadata": {},
   "outputs": [
    {
     "data": {
      "text/plain": [
       "1"
      ]
     },
     "execution_count": 9,
     "metadata": {},
     "output_type": "execute_result"
    }
   ],
   "source": [
    "text = \"Do you have time?\"\n",
    "input = tokenizer.encode(text, allowed_special={\"<|endoftext|>\"})\n",
    "input = torch.tensor(input).unsqueeze(0)\n",
    "\n",
    "with torch.no_grad():\n",
    "    logits = gpt(input)[:, -1, :]\n",
    "\n",
    "label = torch.argmax(logits).item() # gives an integer result for the label\n",
    "label"
   ]
  },
  {
   "cell_type": "code",
   "execution_count": 10,
   "id": "914743b9",
   "metadata": {},
   "outputs": [
    {
     "name": "stdout",
     "output_type": "stream",
     "text": [
      "sms_spam_collection\\SMSSpamCollection.tsv already exists. Skipping download and extraction.\n"
     ]
    }
   ],
   "source": [
    "# Data preparation\n",
    "import urllib.request\n",
    "import zipfile\n",
    "import os\n",
    "from pathlib import Path\n",
    "\n",
    "url = \"https://archive.ics.uci.edu/static/public/228/sms+spam+collection.zip\"\n",
    "zip_path = \"sms_spam_collection.zip\"\n",
    "extracted_path = \"sms_spam_collection\"\n",
    "data_file_path = Path(extracted_path) / \"SMSSpamCollection.tsv\"\n",
    "\n",
    "def download_and_unzip_spam_data(url, zip_path, extracted_path, data_file_path):\n",
    "    if data_file_path.exists():\n",
    "        print(f\"{data_file_path} already exists. Skipping download and extraction.\")\n",
    "        return\n",
    "\n",
    "    # Downloading the file\n",
    "    with urllib.request.urlopen(url) as response:\n",
    "        with open(zip_path, \"wb\") as out_file:\n",
    "            out_file.write(response.read())\n",
    "\n",
    "    # Unzipping the file\n",
    "    with zipfile.ZipFile(zip_path, \"r\") as zip_ref:\n",
    "        zip_ref.extractall(extracted_path)\n",
    "\n",
    "    # Add .tsv file extension\n",
    "    original_file_path = Path(extracted_path) / \"SMSSpamCollection\"\n",
    "    os.rename(original_file_path, data_file_path)\n",
    "    print(f\"File downloaded and saved as {data_file_path}\")\n",
    "\n",
    "try:\n",
    "    download_and_unzip_spam_data(url, zip_path, extracted_path, data_file_path)\n",
    "except (urllib.error.HTTPError, urllib.error.URLError, TimeoutError) as e:\n",
    "    print(f\"Primary URL failed: {e}. Trying backup URL...\")\n",
    "    url = \"https://f001.backblazeb2.com/file/LLMs-from-scratch/sms%2Bspam%2Bcollection.zip\"\n",
    "    download_and_unzip_spam_data(url, zip_path, extracted_path, data_file_path) "
   ]
  },
  {
   "cell_type": "code",
   "execution_count": 45,
   "id": "14efa194",
   "metadata": {},
   "outputs": [
    {
     "name": "stdout",
     "output_type": "stream",
     "text": [
      "Label\n",
      "ham     747\n",
      "spam    747\n",
      "Name: count, dtype: int64\n"
     ]
    }
   ],
   "source": [
    "import pandas as pd\n",
    "\n",
    "df = pd.read_csv(data_file_path, sep=\"\\t\", header=None, names=[\"Label\", \"Text\"])\n",
    "\n",
    "def create_balanced_dataset(df):\n",
    "    \n",
    "    # Count the instances of \"spam\"\n",
    "    num_spam = df[df[\"Label\"] == \"spam\"].shape[0]\n",
    "    \n",
    "    # Randomly sample \"ham\" instances to match the number of \"spam\" instances\n",
    "    ham_subset = df[df[\"Label\"] == \"ham\"].sample(num_spam, random_state=123)\n",
    "    \n",
    "    # Combine ham \"subset\" with \"spam\"\n",
    "    balanced_df = pd.concat([ham_subset, df[df[\"Label\"] == \"spam\"]])\n",
    "\n",
    "    return balanced_df\n",
    "\n",
    "\n",
    "balanced_df = create_balanced_dataset(df)\n",
    "print(balanced_df[\"Label\"].value_counts())\n",
    "\n",
    "balanced_df[\"Label\"] = balanced_df[\"Label\"].map({\"ham\": 0, \"spam\": 1})\n",
    "\n",
    "def random_split(df, train_frac, validation_frac):\n",
    "    # Shuffle the entire DataFrame\n",
    "    df = df.sample(frac=1, random_state=123).reset_index(drop=True)\n",
    "\n",
    "    # Calculate split indices\n",
    "    train_end = int(len(df) * train_frac)\n",
    "    validation_end = train_end + int(len(df) * validation_frac)\n",
    "\n",
    "    # Split the DataFrame\n",
    "    train_df = df[:train_end]\n",
    "    validation_df = df[train_end:validation_end]\n",
    "    test_df = df[validation_end:]\n",
    "\n",
    "    return train_df, validation_df, test_df\n",
    "\n",
    "train_df, validation_df, test_df = random_split(balanced_df, 0.7, 0.1)\n",
    "# Test size is implied to be 0.2 as the remainder\n",
    "\n",
    "train_df.to_csv(\"./sms_spam_collection/train.csv\", index=None)\n",
    "validation_df.to_csv(\"./sms_spam_collection/validation.csv\", index=None)\n",
    "test_df.to_csv(\"./sms_spam_collection/test.csv\", index=None)"
   ]
  },
  {
   "cell_type": "code",
   "execution_count": 46,
   "id": "44ada845",
   "metadata": {},
   "outputs": [
    {
     "name": "stdout",
     "output_type": "stream",
     "text": [
      "120\n"
     ]
    }
   ],
   "source": [
    "from classes.dataloader import SpamDataset\n",
    "\n",
    "train_dataset = SpamDataset(\n",
    "    csv_file=\"./sms_spam_collection/train.csv\",\n",
    "    max_length=None,\n",
    "    tokenizer=tokenizer\n",
    ")\n",
    "\n",
    "print(train_dataset.max_length)\n",
    "\n",
    "val_dataset = SpamDataset(\n",
    "    csv_file=\"./sms_spam_collection/validation.csv\",\n",
    "    max_length=train_dataset.max_length,\n",
    "    tokenizer=tokenizer\n",
    ")\n",
    "test_dataset = SpamDataset(\n",
    "    csv_file=\"./sms_spam_collection/test.csv\",\n",
    "    max_length=train_dataset.max_length,\n",
    "    tokenizer=tokenizer\n",
    ")\n",
    "\n",
    "# create dataloaders for each dataset\n",
    "from torch.utils.data import DataLoader\n",
    "\n",
    "num_workers = 0\n",
    "batch_size = 8\n",
    "\n",
    "torch.manual_seed(123)\n",
    "\n",
    "train_loader = DataLoader(\n",
    "    dataset=train_dataset,\n",
    "    batch_size=batch_size,\n",
    "    shuffle=True,\n",
    "    num_workers=num_workers,\n",
    "    drop_last=True,\n",
    ")\n",
    "\n",
    "val_loader = DataLoader(\n",
    "    dataset=val_dataset,\n",
    "    batch_size=batch_size,\n",
    "    num_workers=num_workers,\n",
    "    drop_last=False,\n",
    ")\n",
    "\n",
    "test_loader = DataLoader(\n",
    "    dataset=test_dataset,\n",
    "    batch_size=batch_size,\n",
    "    num_workers=num_workers,\n",
    "    drop_last=False,\n",
    ")"
   ]
  },
  {
   "cell_type": "code",
   "execution_count": 15,
   "id": "9d2f2051",
   "metadata": {},
   "outputs": [],
   "source": [
    "def calc_accuracy_loader(data_loader, model, device, num_batches=None):\n",
    "    model.eval()\n",
    "\n",
    "    correct_predictions, num_predictions = 0, 0\n",
    "\n",
    "    if num_batches is None:\n",
    "        num_batches = len(data_loader)\n",
    "    else:\n",
    "        num_batches = min(len(data_loader), num_batches)\n",
    "\n",
    "    for i, (input_batch, target_batch) in enumerate(data_loader):\n",
    "        if i >= num_batches:\n",
    "            break\n",
    "\n",
    "        input_batch, target_batch = input_batch.to(device), target_batch.to(device)\n",
    "\n",
    "        with torch.no_grad():\n",
    "            logits = model(input_batch)[:, -1, :]\n",
    "\n",
    "        predicted_labels = torch.argmax(logits, dim=-1)\n",
    "\n",
    "        num_predictions += predicted_labels.shape[0]\n",
    "        correct_predictions += (predicted_labels == target_batch).sum()\n",
    "\n",
    "    return correct_predictions / num_predictions\n",
    "\n",
    "\n",
    "def calc_loss_batch(input_batch, target_batch, model, device):\n",
    "    input_batch, target_batch = input_batch.to(device), target_batch.to(device)\n",
    "    logits = model(input_batch)[:, -1, :]\n",
    "    return nn.functional.cross_entropy(logits, target_batch)\n",
    "\n",
    "def calc_loss_loader(data_loader, model, device, num_batches=None):\n",
    "    model.eval()\n",
    "\n",
    "    loss = 0\n",
    "\n",
    "    if num_batches is None:\n",
    "        num_batches = len(data_loader)\n",
    "    else:\n",
    "        num_batches = min(len(data_loader), num_batches)\n",
    "\n",
    "    for i, (input_batch, target_batch) in enumerate(data_loader):\n",
    "        if i >= num_batches:\n",
    "            break\n",
    "\n",
    "        loss += calc_loss_batch(input_batch, target_batch, model, device)\n",
    "\n",
    "    return loss / num_batches\n"
   ]
  },
  {
   "cell_type": "code",
   "execution_count": 16,
   "id": "79142c6f",
   "metadata": {},
   "outputs": [
    {
     "name": "stdout",
     "output_type": "stream",
     "text": [
      "tensor(0.4625)\n",
      "tensor(2.7660, grad_fn=<DivBackward0>)\n"
     ]
    }
   ],
   "source": [
    "device = torch.device(\"cpu\")\n",
    "gpt.to(device)\n",
    "\n",
    "torch.manual_seed(123)\n",
    " \n",
    "train_accuracy = calc_accuracy_loader(train_loader, gpt, device, num_batches=10)\n",
    "print(train_accuracy)\n",
    "\n",
    "train_loss = calc_loss_loader(train_loader, gpt, device, num_batches=10)\n",
    "print(train_loss)"
   ]
  },
  {
   "cell_type": "markdown",
   "id": "753c8ad4",
   "metadata": {},
   "source": [
    "## Finetunning the gpt model"
   ]
  },
  {
   "cell_type": "code",
   "execution_count": 22,
   "id": "8d8f2fe3",
   "metadata": {},
   "outputs": [],
   "source": [
    "def train_model_classifier_simple(\n",
    "    model, train_loader, valid_loader, optimizer, device, \n",
    "    num_epochs, eval_freq, eval_iter):\n",
    "\n",
    "    train_losses, valid_losses, train_acc, valid_acc = [], [], [], []\n",
    "    examples_seen, global_step = 0, -1\n",
    "\n",
    "    # main loop\n",
    "    for epoch in range(num_epochs):\n",
    "        model.train()\n",
    "\n",
    "        for input_batch, target_batch in train_loader:\n",
    "            optimizer.zero_grad() # resets the gradients\n",
    "            loss = calc_loss_batch(input_batch, target_batch, model, device)\n",
    "            loss.backward()\n",
    "            optimizer.step()\n",
    "\n",
    "            examples_seen += input_batch.shape[0]\n",
    "            global_step += 1\n",
    "\n",
    "            # eval step\n",
    "            if global_step % eval_freq == 0:\n",
    "                train_loss, valid_loss = evaluate_model(model, train_loader, valid_loader, device, eval_iter)\n",
    "                \n",
    "                train_losses.append(train_loss)\n",
    "                valid_losses.append(valid_loss)\n",
    "\n",
    "                print(f\"Epoch {epoch+1} (Step {global_step:06d}): \"\n",
    "                      f\"Train loss: {train_loss:.3f}, Valid loss: {valid_loss:.3f}\")\n",
    "                \n",
    "        tr_acc = calc_accuracy_loader(train_loader, model, device, num_batches=eval_iter)\n",
    "        vl_acc = calc_accuracy_loader(valid_loader, model, device, num_batches=eval_iter)\n",
    "        train_acc.append(tr_acc)\n",
    "        valid_acc.append(vl_acc)  \n",
    "        print(f\"Training Accuracy: {tr_acc*100:02f}%\")\n",
    "        print(f\"Validation Accuracy: {vl_acc*100:02f}%\")       \n",
    "\n",
    "    return train_losses, valid_losses, train_acc, valid_acc, examples_seen\n",
    "\n",
    "\n",
    "def evaluate_model(model, train_loader, valid_loader, device, eval_iter):\n",
    "    model.eval()\n",
    "\n",
    "    with torch.no_grad():\n",
    "        train_loss = calc_loss_loader(train_loader, model, device, num_batches=eval_iter)\n",
    "        valid_loss = calc_loss_loader(valid_loader, model, device, num_batches=eval_iter)\n",
    "    \n",
    "    model.train()\n",
    "    return train_loss, valid_loss"
   ]
  },
  {
   "cell_type": "code",
   "execution_count": null,
   "id": "2df5c707",
   "metadata": {},
   "outputs": [],
   "source": [
    "train_accuracy = calc_accuracy_loader(train_loader, model, device)\n",
    "val_accuracy = calc_accuracy_loader(val_loader, model, device)\n",
    "test_accuracy = calc_accuracy_loader(test_loader, model, device)\n",
    "\n",
    "print(f\"Training accuracy: {train_accuracy*100:.2f}%\")\n",
    "print(f\"Validation accuracy: {val_accuracy*100:.2f}%\")\n",
    "print(f\"Test accuracy: {test_accuracy*100:.2f}%\")"
   ]
  },
  {
   "cell_type": "code",
   "execution_count": 28,
   "id": "bc3776c9",
   "metadata": {},
   "outputs": [
    {
     "name": "stdout",
     "output_type": "stream",
     "text": [
      "Epoch 1 (Step 000000): Train loss: 0.490, Valid loss: 0.509\n",
      "Epoch 1 (Step 000050): Train loss: 0.573, Valid loss: 0.477\n",
      "Epoch 1 (Step 000100): Train loss: 0.591, Valid loss: 0.494\n",
      "Training Accuracy: 77.500000%\n",
      "Validation Accuracy: 82.500000%\n",
      "Epoch 2 (Step 000150): Train loss: 0.384, Valid loss: 0.392\n",
      "Epoch 2 (Step 000200): Train loss: 0.401, Valid loss: 0.379\n",
      "Epoch 2 (Step 000250): Train loss: 0.433, Valid loss: 0.337\n",
      "Training Accuracy: 90.000000%\n",
      "Validation Accuracy: 77.500000%\n",
      "Epoch 3 (Step 000300): Train loss: 0.161, Valid loss: 0.308\n",
      "Epoch 3 (Step 000350): Train loss: 0.115, Valid loss: 0.168\n",
      "Training Accuracy: 90.000000%\n",
      "Validation Accuracy: 90.000000%\n",
      "Epoch 4 (Step 000400): Train loss: 0.254, Valid loss: 0.198\n",
      "Epoch 4 (Step 000450): Train loss: 0.026, Valid loss: 0.085\n",
      "Epoch 4 (Step 000500): Train loss: 0.036, Valid loss: 0.068\n",
      "Training Accuracy: 92.500000%\n",
      "Validation Accuracy: 97.500000%\n",
      "Epoch 5 (Step 000550): Train loss: 0.068, Valid loss: 0.071\n",
      "Epoch 5 (Step 000600): Train loss: 0.145, Valid loss: 0.046\n",
      "Training Accuracy: 97.500000%\n",
      "Validation Accuracy: 97.500000%\n"
     ]
    }
   ],
   "source": [
    "# Training time!!\n",
    "torch.manual_seed(123)\n",
    "\n",
    "optimizer = torch.optim.AdamW(gpt.parameters(), lr=5e-5, weight_decay=0.1)\n",
    "\n",
    "num_epochs = 5 \n",
    "train_losses, valid_losses, train_acc, valid_acc, examples_seen = train_model_classifier_simple(gpt, train_loader, val_loader, optimizer, device, num_epochs, eval_freq=50, eval_iter=5)"
   ]
  },
  {
   "cell_type": "code",
   "execution_count": 29,
   "id": "3e36ec50",
   "metadata": {},
   "outputs": [],
   "source": [
    "import matplotlib.pyplot as plt\n",
    "\n",
    "def plot_values(epochs_seen, examples_seen, train_values, val_values, label=\"loss\"):\n",
    "    fig, ax1 = plt.subplots(figsize=(5, 3))\n",
    "\n",
    "    # Plot training and validation loss against epochs\n",
    "    ax1.plot(epochs_seen, train_values, label=f\"Training {label}\")\n",
    "    ax1.plot(epochs_seen, val_values, linestyle=\"-.\", label=f\"Validation {label}\")\n",
    "    ax1.set_xlabel(\"Epochs\")\n",
    "    ax1.set_ylabel(label.capitalize())\n",
    "    ax1.legend()\n",
    "\n",
    "    # Create a second x-axis for examples seen\n",
    "    ax2 = ax1.twiny()  # Create a second x-axis that shares the same y-axis\n",
    "    ax2.plot(examples_seen, train_values, alpha=0)  # Invisible plot for aligning ticks\n",
    "    ax2.set_xlabel(\"Examples seen\")\n",
    "\n",
    "    fig.tight_layout()  # Adjust layout to make room\n",
    "    plt.savefig(f\"{label}-plot.pdf\")\n",
    "    plt.show()"
   ]
  },
  {
   "cell_type": "code",
   "execution_count": 30,
   "id": "4ec9f079",
   "metadata": {},
   "outputs": [
    {
     "data": {
      "image/png": "[encoded data removed]",
      "text/plain": [
       "<Figure size 500x300 with 2 Axes>"
      ]
     },
     "metadata": {},
     "output_type": "display_data"
    }
   ],
   "source": [
    "epochs_tensor = torch.linspace(0, num_epochs, len(train_losses))\n",
    "examples_seen_tensor = torch.linspace(0, examples_seen, len(train_losses))\n",
    "\n",
    "plot_values(epochs_tensor, examples_seen_tensor, train_losses, valid_losses)"
   ]
  },
  {
   "cell_type": "code",
   "execution_count": 31,
   "id": "5e7effd9",
   "metadata": {},
   "outputs": [
    {
     "data": {
      "image/png": "[encoded data removed]",
      "text/plain": [
       "<Figure size 500x300 with 2 Axes>"
      ]
     },
     "metadata": {},
     "output_type": "display_data"
    }
   ],
   "source": [
    "epochs_tensor = torch.linspace(0, num_epochs, len(train_acc))\n",
    "examples_seen_tensor = torch.linspace(0, examples_seen, len(train_acc))\n",
    "\n",
    "plot_values(epochs_tensor, examples_seen_tensor, train_acc, valid_acc, label=\"accuracy\")"
   ]
  },
  {
   "cell_type": "code",
   "execution_count": 37,
   "id": "3b59579f",
   "metadata": {},
   "outputs": [],
   "source": [
    "def classify_text(text, model, tokenizer, device, max_length=None, pad_token_id=50256): # pad token is the special end-of-text\n",
    "\n",
    "    input_tks = tokenizer.encode(text)\n",
    "    supported_context_lenght = model.position_emb.weight.shape[0]\n",
    "    max_length = min(max_length, supported_context_lenght)\n",
    "\n",
    "    # make sure the text is equal or smaller than the model's context lenght\n",
    "    input_tks = input_tks[:max_length]\n",
    "    input_tks += [pad_token_id] * (max_length - len(input_tks)) \n",
    "\n",
    "    # convert to tensor\n",
    "    input_tks = torch.tensor(input_tks, device=device).unsqueeze(0)\n",
    "\n",
    "    with torch.no_grad():\n",
    "        logits = model(input_tks)[:, -1, :]\n",
    "\n",
    "    pred_label = torch.argmax(logits, dim=-1).item()\n",
    "\n",
    "    return \"Spam\" if pred_label == 1 else \"Not Spam\"\n"
   ]
  },
  {
   "cell_type": "code",
   "execution_count": 41,
   "id": "560b39a4",
   "metadata": {},
   "outputs": [
    {
     "name": "stdout",
     "output_type": "stream",
     "text": [
      "The msg: 'You have been specially selected to get a 1000 dollars reward!' is Spam\n",
      "The msg: 'Hello there!' is Not Spam\n"
     ]
    }
   ],
   "source": [
    "# testing the classifier\n",
    "\n",
    "text = \"You have been specially selected to get a 1000 dollars reward!\"\n",
    "\n",
    "res = classify_text(text, gpt, tokenizer=tokenizer, device=device, max_length=train_dataset.max_length)\n",
    "print(f\"The msg: '{text}' is {res}\")\n",
    "\n",
    "text = \"Hello there!\"\n",
    "\n",
    "res = classify_text(text, gpt, tokenizer=tokenizer, device=device, max_length=train_dataset.max_length)\n",
    "print(f\"The msg: '{text}' is {res}\")"
   ]
  },
  {
   "cell_type": "code",
   "execution_count": 43,
   "id": "8d6494ee",
   "metadata": {},
   "outputs": [],
   "source": [
    "# save the current model\n",
    "torch.save(gpt.state_dict(), \"./weights/text_classifier.pth\")"
   ]
  }
 ],
 "metadata": {
  "kernelspec": {
   "display_name": ".venv",
   "language": "python",
   "name": "python3"
  },
  "language_info": {
   "codemirror_mode": {
    "name": "ipython",
    "version": 3
   },
   "file_extension": ".py",
   "mimetype": "text/x-python",
   "name": "python",
   "nbconvert_exporter": "python",
   "pygments_lexer": "ipython3",
   "version": "3.11.9"
  }
 },
 "nbformat": 4,
 "nbformat_minor": 5
}
