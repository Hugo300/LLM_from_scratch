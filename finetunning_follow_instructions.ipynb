{
 "cells": [
  {
   "cell_type": "code",
   "execution_count": 1,
   "id": "db1e24d8",
   "metadata": {},
   "outputs": [],
   "source": [
    "import torch"
   ]
  },
  {
   "cell_type": "code",
   "execution_count": 2,
   "id": "a55616b1",
   "metadata": {},
   "outputs": [
    {
     "name": "stdout",
     "output_type": "stream",
     "text": [
      "Number of entries: 1100\n"
     ]
    }
   ],
   "source": [
    "# getting a dataset\n",
    "\n",
    "import json\n",
    "import os\n",
    "import urllib\n",
    "\n",
    "\n",
    "def download_and_load_file(file_path, url):\n",
    "\n",
    "    if not os.path.exists(file_path):\n",
    "        with urllib.request.urlopen(url) as response:\n",
    "            text_data = response.read().decode(\"utf-8\")\n",
    "        with open(file_path, \"w\", encoding=\"utf-8\") as file:\n",
    "            file.write(text_data)\n",
    "\n",
    "    # The book originally contained this unnecessary \"else\" clause:\n",
    "    #else:\n",
    "    #    with open(file_path, \"r\", encoding=\"utf-8\") as file:\n",
    "    #        text_data = file.read()\n",
    "\n",
    "    with open(file_path, \"r\", encoding=\"utf-8\") as file:\n",
    "        data = json.load(file)\n",
    "\n",
    "    return data\n",
    "\n",
    "\n",
    "file_path = \"./instruction_data/instruction-data.json\"\n",
    "url = (\n",
    "    \"https://raw.githubusercontent.com/rasbt/LLMs-from-scratch\"\n",
    "    \"/main/ch07/01_main-chapter-code/instruction-data.json\"\n",
    ")\n",
    "\n",
    "data = download_and_load_file(file_path, url)\n",
    "print(\"Number of entries:\", len(data))"
   ]
  },
  {
   "cell_type": "code",
   "execution_count": 3,
   "id": "e40d5096",
   "metadata": {},
   "outputs": [],
   "source": [
    "# this is based on a older, more widespread approach\n",
    "def format_input(entry):\n",
    "    instruction_text = (\n",
    "        f\"Below is an instruction that describes a task. \"\n",
    "        f\"Write a response that appropriately completes the request.\"\n",
    "        f\"\\n\\n### Instruction:\\n{entry['instruction']}\"\n",
    "    )\n",
    "\n",
    "    input_text = f\"\\n\\n### Input\\n{entry['input']}\" if entry['input'] else \"\"\n",
    "\n",
    "    return instruction_text + input_text"
   ]
  },
  {
   "cell_type": "code",
   "execution_count": 4,
   "id": "98e656b7",
   "metadata": {},
   "outputs": [],
   "source": [
    "# creating data fortrain, val and test\n",
    "train_portion = int(len(data) * 0.85)\n",
    "test_portion = int(len(data) * 0.1)\n",
    "val_portion = len(data) - train_portion - test_portion\n",
    "\n",
    "train_data = data[:train_portion]\n",
    "test_data = data[train_portion:train_portion+test_portion]\n",
    "val_data = data[-val_portion:]\n"
   ]
  },
  {
   "cell_type": "code",
   "execution_count": 5,
   "id": "21d25f58",
   "metadata": {},
   "outputs": [
    {
     "name": "stdout",
     "output_type": "stream",
     "text": [
      "55\n",
      "935\n",
      "110\n"
     ]
    }
   ],
   "source": [
    "print(len(val_data))\n",
    "print(len(train_data))\n",
    "print(len(test_data))"
   ]
  },
  {
   "cell_type": "code",
   "execution_count": 6,
   "id": "d9bfd31b",
   "metadata": {},
   "outputs": [],
   "source": [
    "# need to pad the inputs to have always the same size in each batch\n",
    "\n",
    "def custom_collate(batch, pad_token_id=50256, ignore_index=-100, allowed_max_length=1024, device=\"cpu\"):\n",
    "\n",
    "    # get longest sequence in the batch\n",
    "    batch_longest = max(len(item)+1 for item in batch)\n",
    "\n",
    "    input_padd_list, target_padd_list = [], []\n",
    "    for item in batch:\n",
    "        new_item = item.copy()\n",
    "\n",
    "        padded = new_item + [pad_token_id] * (batch_longest - len(new_item))\n",
    "\n",
    "        inputs = torch.tensor(padded[:-1])\n",
    "        targets = torch.tensor(padded[1:])\n",
    "\n",
    "        # need to replace all but one end-of-text token with the ignore index\n",
    "        mask = targets == pad_token_id\n",
    "        indices = torch.nonzero(mask).squeeze()\n",
    "        if indices.numel() > 1: # more than one end of text token\"\n",
    "            targets[indices[1:]] = ignore_index\n",
    "\n",
    "        # make sure the tokens fit the model's context length\n",
    "        if allowed_max_length is not None:\n",
    "            inputs = inputs[:allowed_max_length]\n",
    "            targets = targets[:allowed_max_length]\n",
    "\n",
    "        # temporary ??\n",
    "        input_padd_list.append(inputs)\n",
    "        target_padd_list.append(targets)\n",
    "\n",
    "    # stack the list onto a single tensor and return the input data\n",
    "    return torch.stack(input_padd_list).to(device), torch.stack(target_padd_list).to(device)"
   ]
  },
  {
   "cell_type": "code",
   "execution_count": 7,
   "id": "d096613a",
   "metadata": {},
   "outputs": [],
   "source": [
    "# test the collage function\n",
    "inputs_1 = [0, 1, 2, 3, 4]\n",
    "inputs_2 = [5, 6]\n",
    "inputs_3 = [7, 8, 9]\n",
    "\n",
    "batch = (\n",
    "    inputs_1,\n",
    "    inputs_2,\n",
    "    inputs_3\n",
    ")\n",
    "\n",
    "inp, trg = custom_collate(batch)"
   ]
  },
  {
   "cell_type": "code",
   "execution_count": 8,
   "id": "a5c53b13",
   "metadata": {},
   "outputs": [],
   "source": [
    "import tiktoken\n",
    "\n",
    "from classes.dataloader import DataLoader\n",
    "from classes.dataset import InstructionDataset\n",
    "\n",
    "torch.manual_seed(123)\n",
    "\n",
    "batch_size= 8\n",
    "num_workers = 0\n",
    "\n",
    "train_dataset = InstructionDataset(train_data, tiktoken.get_encoding(\"gpt2\"))\n",
    "train_loader = DataLoader(\n",
    "    train_dataset,\n",
    "    batch_size=batch_size,\n",
    "    collate_fn=custom_collate,\n",
    "    shuffle=True,\n",
    "    drop_last=True,\n",
    "    num_workers=num_workers\n",
    ")\n",
    "\n",
    "val_dataset = InstructionDataset(val_data, tiktoken.get_encoding(\"gpt2\"))\n",
    "val_loader = DataLoader(\n",
    "    val_dataset,\n",
    "    batch_size=batch_size,\n",
    "    collate_fn=custom_collate,\n",
    "    shuffle=True,\n",
    "    drop_last=True,\n",
    "    num_workers=num_workers\n",
    ")\n",
    "\n",
    "test_dataset = InstructionDataset(test_data, tiktoken.get_encoding(\"gpt2\"))\n",
    "test_loader = DataLoader(\n",
    "    test_dataset,\n",
    "    batch_size=batch_size,\n",
    "    collate_fn=custom_collate,\n",
    "    shuffle=True,\n",
    "    drop_last=True,\n",
    "    num_workers=num_workers\n",
    ")"
   ]
  },
  {
   "cell_type": "code",
   "execution_count": 9,
   "id": "e2950dc8",
   "metadata": {},
   "outputs": [
    {
     "name": "stdout",
     "output_type": "stream",
     "text": [
      "File already exists and is up-to-date: gpt2\\355M\\checkpoint\n",
      "File already exists and is up-to-date: gpt2\\355M\\encoder.json\n",
      "File already exists and is up-to-date: gpt2\\355M\\hparams.json\n",
      "File already exists and is up-to-date: gpt2\\355M\\model.ckpt.data-00000-of-00001\n",
      "File already exists and is up-to-date: gpt2\\355M\\model.ckpt.index\n",
      "File already exists and is up-to-date: gpt2\\355M\\model.ckpt.meta\n",
      "File already exists and is up-to-date: gpt2\\355M\\vocab.bpe\n"
     ]
    }
   ],
   "source": [
    "# Define model configurations in a dictionary for compactness\n",
    "model_configs = {\n",
    "    \"gpt2-small (124M)\": {\"emb_dim\": 768, \"n_layers\": 12, \"n_heads\": 12},\n",
    "    \"gpt2-medium (355M)\": {\"emb_dim\": 1024, \"n_layers\": 24, \"n_heads\": 16},\n",
    "    \"gpt2-large (774M)\": {\"emb_dim\": 1280, \"n_layers\": 36, \"n_heads\": 20},\n",
    "    \"gpt2-xl (1558M)\": {\"emb_dim\": 1600, \"n_layers\": 48, \"n_heads\": 25},\n",
    "}\n",
    "\n",
    "# base configurations\n",
    "GPT_CONFIG_124M = {\n",
    "    \"vocab_size\": 50257,\n",
    "    \"context_length\": 256,\n",
    "    \"emb_dim\": 768,\n",
    "    \"n_heads\": 12,\n",
    "    \"n_layers\": 12,\n",
    "    \"drop_rate\": 0.1,\n",
    "    \"qkv_bias\": False,\n",
    "    \"gpt_model_name\": \"\",\n",
    "    \"gpt_num_params\": \"\"\n",
    "}\n",
    "\n",
    "# Copy the base configuration and update with specific model settings\n",
    "model_name = \"gpt2-medium (355M)\"  # Example model name\n",
    "NEW_CONFIG = GPT_CONFIG_124M.copy()\n",
    "NEW_CONFIG.update(model_configs[model_name])\n",
    "NEW_CONFIG.update({\"context_length\": 1024, \"qkv_bias\": True})\n",
    "NEW_CONFIG.update({\"gpt_model_name\": model_name, \"gpt_num_params\": \"355M\" })\n",
    "\n",
    "from classes.model import GPTModel\n",
    "\n",
    "# Create the new model using the properties from the selected gpt model\n",
    "model = GPTModel(NEW_CONFIG)\n",
    "model.eval();\n",
    "\n",
    "# Load the gpt weights into the model\n",
    "model.load_weights_gpt()"
   ]
  },
  {
   "cell_type": "code",
   "execution_count": 10,
   "id": "19c77855",
   "metadata": {},
   "outputs": [
    {
     "name": "stdout",
     "output_type": "stream",
     "text": [
      "Below is an instruction that describes a task. Write a response that appropriately completes the request.\n",
      "\n",
      "### Instruction:\n",
      "Convert the active sentence to passive: 'The chef cooks the meal every day.'\n"
     ]
    }
   ],
   "source": [
    "torch.manual_seed(123)\n",
    "\n",
    "# an initial test of the system\n",
    "input_text = format_input(val_data[0])\n",
    "print(input_text)"
   ]
  },
  {
   "cell_type": "code",
   "execution_count": 11,
   "id": "6621b4ff",
   "metadata": {},
   "outputs": [
    {
     "name": "stdout",
     "output_type": "stream",
     "text": [
      "The chef cooks the meal every day.\n",
      "\n",
      "### Instruction:\n",
      "\n",
      "Convert the active sentence to passive: 'The chef cooks the\n"
     ]
    }
   ],
   "source": [
    "# get the text generator\n",
    "from classes.generation import generator, TextTokenConversion\n",
    "\n",
    "text_generator = generator(\n",
    "    model=model,\n",
    "    encoder=TextTokenConversion(tiktoken.get_encoding(\"gpt2\"))\n",
    ")\n",
    "\n",
    "generated_tokens = text_generator.generate_text_input_text(\n",
    "    input_text,\n",
    "    max_new_tokens=35,\n",
    "    eos_id=50256\n",
    ")\n",
    "response_text = text_generator.encoder.decode(generated_tokens)\n",
    "response_text = (\n",
    "    response_text[len(input_text):]\n",
    "    .replace(\"### Response:\", \"\")\n",
    "    .strip()\n",
    ")\n",
    "print(response_text)"
   ]
  },
  {
   "cell_type": "code",
   "execution_count": 12,
   "id": "36d3b611",
   "metadata": {},
   "outputs": [],
   "source": [
    "# calculating loss\n",
    "def calc_loss_batch(input_batch, target_batch, model, device):\n",
    "    input_batch, target_batch = input_batch.to(device), target_batch.to(device)\n",
    "\n",
    "    logits = model(input_batch)\n",
    "    loss = torch.nn.functional.cross_entropy(\n",
    "        logits.flatten(0, 1),\n",
    "        target_batch.flatten()\n",
    "    )\n",
    "\n",
    "    return loss\n",
    "\n",
    "def calc_loss_loader(data_loader, model, device, num_bacthes=None):\n",
    "    total_loss = 0\n",
    "\n",
    "    if len(data_loader) == 0:\n",
    "        return float(\"nan\")\n",
    "    elif num_bacthes is None:\n",
    "        num_bacthes = len(data_loader)\n",
    "    else:\n",
    "        num_bacthes = min(num_bacthes, len(data_loader))\n",
    "\n",
    "    for i, (input_batch, target_batch) in enumerate(data_loader):\n",
    "        if i < num_bacthes:\n",
    "            loss = calc_loss_batch(input_batch, target_batch, model, device)\n",
    "            total_loss += loss\n",
    "        else:\n",
    "            break\n",
    "\n",
    "    return total_loss / num_bacthes"
   ]
  },
  {
   "cell_type": "code",
   "execution_count": 13,
   "id": "b8c27412",
   "metadata": {},
   "outputs": [],
   "source": [
    "def train_model_simple(\n",
    "    model, train_loader, valid_loader, optimizer, device, \n",
    "    num_epochs, eval_freq, eval_iter, input_text):\n",
    "\n",
    "    train_losses, valid_losses, track_tokens_seen = [], [], []\n",
    "    tokens_seen, global_step = 0, -1\n",
    "\n",
    "    # main loop\n",
    "    for epoch in range(num_epochs):\n",
    "        model.train()\n",
    "\n",
    "        for input_batch, target_batch in train_loader:\n",
    "            optimizer.zero_grad() # resets the gradients\n",
    "            loss = calc_loss_batch(input_batch, target_batch, model, device)\n",
    "            loss.backward()\n",
    "            optimizer.step()\n",
    "\n",
    "            tokens_seen += input_batch.numel()\n",
    "            global_step += 1\n",
    "\n",
    "            # eval step\n",
    "            if global_step % eval_freq == 0:\n",
    "                train_loss, valid_loss = evaluate_model(model, train_loader, valid_loader, device, eval_iter)\n",
    "                \n",
    "                train_losses.append(train_loss)\n",
    "                valid_losses.append(valid_loss)\n",
    "                track_tokens_seen.append(tokens_seen)\n",
    "\n",
    "                print(f\"Epoch {epoch+1} (Step {global_step:06d}): \"\n",
    "                      f\"Train loss: {train_loss:.3f}, Valid loss: {valid_loss:.3f}\")\n",
    "                \n",
    "        text_generator.generate_and_print(input_text, num_gen_tokens=35, method=\"simple\", device=device)\n",
    "\n",
    "    return train_losses, valid_losses, track_tokens_seen\n",
    "\n",
    "\n",
    "def evaluate_model(model, train_loader, valid_loader, device, eval_iter):\n",
    "    model.eval()\n",
    "\n",
    "    with torch.no_grad():\n",
    "        train_loss = calc_loss_loader(train_loader, model, device, num_bacthes=eval_iter)\n",
    "        valid_loss = calc_loss_loader(valid_loader, model, device, num_bacthes=eval_iter)\n",
    "    \n",
    "    model.train()\n",
    "    return train_loss, valid_loss\n"
   ]
  },
  {
   "cell_type": "markdown",
   "id": "2e5baef3",
   "metadata": {},
   "source": [
    "## Training the model"
   ]
  },
  {
   "cell_type": "code",
   "execution_count": 14,
   "id": "bdf98568",
   "metadata": {},
   "outputs": [
    {
     "name": "stdout",
     "output_type": "stream",
     "text": [
      "Epoch 1 (Step 000000): Train loss: 2.557, Valid loss: 2.531\n",
      "Epoch 1 (Step 000005): Train loss: 1.158, Valid loss: 1.134\n",
      "Epoch 1 (Step 000010): Train loss: 0.957, Valid loss: 1.014\n",
      "Epoch 1 (Step 000015): Train loss: 0.796, Valid loss: 0.942\n",
      "Epoch 1 (Step 000020): Train loss: 0.826, Valid loss: 0.926\n",
      "Epoch 1 (Step 000025): Train loss: 0.837, Valid loss: 0.862\n",
      "Epoch 1 (Step 000030): Train loss: 0.780, Valid loss: 0.862\n",
      "Epoch 1 (Step 000035): Train loss: 0.698, Valid loss: 0.847\n",
      "Epoch 1 (Step 000040): Train loss: 0.795, Valid loss: 0.807\n",
      "Epoch 1 (Step 000045): Train loss: 0.553, Valid loss: 0.803\n",
      "Epoch 1 (Step 000050): Train loss: 0.701, Valid loss: 0.824\n",
      "Epoch 1 (Step 000055): Train loss: 0.758, Valid loss: 0.773\n",
      "Epoch 1 (Step 000060): Train loss: 0.815, Valid loss: 0.761\n",
      "Epoch 1 (Step 000065): Train loss: 0.630, Valid loss: 0.768\n",
      "Epoch 1 (Step 000070): Train loss: 0.665, Valid loss: 0.696\n",
      "Epoch 1 (Step 000075): Train loss: 0.662, Valid loss: 0.758\n",
      "Epoch 1 (Step 000080): Train loss: 0.542, Valid loss: 0.679\n",
      "Epoch 1 (Step 000085): Train loss: 0.578, Valid loss: 0.716\n",
      "Epoch 1 (Step 000090): Train loss: 0.620, Valid loss: 0.741\n",
      "Epoch 1 (Step 000095): Train loss: 0.573, Valid loss: 0.749\n",
      "Epoch 1 (Step 000100): Train loss: 0.609, Valid loss: 0.686\n",
      "Epoch 1 (Step 000105): Train loss: 0.514, Valid loss: 0.682\n",
      "Epoch 1 (Step 000110): Train loss: 0.437, Valid loss: 0.682\n",
      "Epoch 1 (Step 000115): Train loss: 0.532, Valid loss: 0.676\n",
      "Below is an instruction that describes a task. Write a response that appropriately completes the request.  ### Instruction: Convert the active sentence to passive: 'The chef cooks the meal every day.'  ### Response: The chef cooks the meal every day.<|endoftext|>The following is an instruction that describes a task. Write a response that appropriately completes the request. \n",
      "Epoch 2 (Step 000120): Train loss: 0.520, Valid loss: 0.686\n",
      "Epoch 2 (Step 000125): Train loss: 0.474, Valid loss: 0.655\n",
      "Epoch 2 (Step 000130): Train loss: 0.437, Valid loss: 0.686\n",
      "Epoch 2 (Step 000135): Train loss: 0.443, Valid loss: 0.688\n",
      "Epoch 2 (Step 000140): Train loss: 0.472, Valid loss: 0.627\n",
      "Epoch 2 (Step 000145): Train loss: 0.449, Valid loss: 0.649\n",
      "Epoch 2 (Step 000150): Train loss: 0.449, Valid loss: 0.672\n",
      "Epoch 2 (Step 000155): Train loss: 0.445, Valid loss: 0.707\n",
      "Epoch 2 (Step 000160): Train loss: 0.457, Valid loss: 0.653\n",
      "Epoch 2 (Step 000165): Train loss: 0.473, Valid loss: 0.671\n",
      "Epoch 2 (Step 000170): Train loss: 0.427, Valid loss: 0.717\n",
      "Epoch 2 (Step 000175): Train loss: 0.455, Valid loss: 0.657\n",
      "Epoch 2 (Step 000180): Train loss: 0.437, Valid loss: 0.635\n",
      "Epoch 2 (Step 000185): Train loss: 0.462, Valid loss: 0.657\n",
      "Epoch 2 (Step 000190): Train loss: 0.418, Valid loss: 0.649\n",
      "Epoch 2 (Step 000195): Train loss: 0.365, Valid loss: 0.694\n",
      "Epoch 2 (Step 000200): Train loss: 0.372, Valid loss: 0.636\n",
      "Epoch 2 (Step 000205): Train loss: 0.364, Valid loss: 0.660\n",
      "Epoch 2 (Step 000210): Train loss: 0.406, Valid loss: 0.580\n",
      "Epoch 2 (Step 000215): Train loss: 0.378, Valid loss: 0.631\n",
      "Epoch 2 (Step 000220): Train loss: 0.394, Valid loss: 0.689\n",
      "Epoch 2 (Step 000225): Train loss: 0.395, Valid loss: 0.652\n",
      "Epoch 2 (Step 000230): Train loss: 0.441, Valid loss: 0.630\n",
      "Below is an instruction that describes a task. Write a response that appropriately completes the request.  ### Instruction: Convert the active sentence to passive: 'The chef cooks the meal every day.'  ### Response: The meal is prepared by the chef every day.<|endoftext|>The following is an instruction that describes a task. Write a response that appropriately completes the request\n"
     ]
    }
   ],
   "source": [
    "torch.manual_seed(123)\n",
    "\n",
    "device = \"cpu\"\n",
    "model.to(device)\n",
    "\n",
    "optimizer = torch.optim.AdamW(model.parameters(), lr=0.00005, weight_decay=0.1)\n",
    "\n",
    "num_epochs = 2\n",
    "\n",
    "train_losses, valid_losses, tokens_seen = train_model_simple(\n",
    "    model,\n",
    "    train_loader,\n",
    "    val_loader,\n",
    "    optimizer,\n",
    "    device,\n",
    "    num_epochs,\n",
    "    eval_freq=5,\n",
    "    eval_iter=5,\n",
    "    input_text=input_text\n",
    ")"
   ]
  },
  {
   "cell_type": "code",
   "execution_count": 15,
   "id": "1bc1e652",
   "metadata": {},
   "outputs": [
    {
     "data": {
      "image/png": "[encoded data removed]",
      "text/plain": [
       "<Figure size 500x300 with 2 Axes>"
      ]
     },
     "metadata": {},
     "output_type": "display_data"
    }
   ],
   "source": [
    "import matplotlib.pyplot as plt\n",
    "from matplotlib.ticker import MaxNLocator\n",
    "\n",
    "\n",
    "def plot_losses(epochs_seen, tokens_seen, train_losses, valid_losses):\n",
    "    fig, ax1 = plt.subplots(figsize=(5, 3))\n",
    "\n",
    "    # Plot training and validation loss against epochs\n",
    "    ax1.plot(epochs_seen, train_losses, label=\"Training loss\")\n",
    "    ax1.plot(epochs_seen, valid_losses, linestyle=\"-.\", label=\"Validation loss\")\n",
    "    ax1.set_xlabel(\"Epochs\")\n",
    "    ax1.set_ylabel(\"Loss\")\n",
    "    ax1.legend(loc=\"upper right\")\n",
    "    ax1.xaxis.set_major_locator(MaxNLocator(integer=True))  # only show integer labels on x-axis\n",
    "\n",
    "    # Create a second x-axis for tokens seen\n",
    "    ax2 = ax1.twiny()  # Create a second x-axis that shares the same y-axis\n",
    "    ax2.plot(tokens_seen, train_losses, alpha=0)  # Invisible plot for aligning ticks\n",
    "    ax2.set_xlabel(\"Tokens seen\")\n",
    "\n",
    "    fig.tight_layout()  # Adjust layout to make room\n",
    "    plt.savefig(\"loss-plot.pdf\")\n",
    "    plt.show()\n",
    "\n",
    "epochs_tensor = torch.linspace(0, num_epochs, len(train_losses))\n",
    "plot_losses(epochs_tensor, tokens_seen, train_losses, valid_losses)"
   ]
  },
  {
   "cell_type": "code",
   "execution_count": 16,
   "id": "8fbb4bfa",
   "metadata": {},
   "outputs": [
    {
     "name": "stdout",
     "output_type": "stream",
     "text": [
      "Below is an instruction that describes a task. Write a response that appropriately completes the request.\n",
      "\n",
      "### Instruction:\n",
      "Rewrite the sentence using a simile.\n",
      "\n",
      "### Input\n",
      "The car is very fast.\n",
      "\n",
      "Expected Response: \n",
      "\tThe car is as fast as lightning.\n",
      "Model Response: \n",
      "\tThe car is a fast car.\n",
      "\n",
      "-------------------------------------\n",
      "\n",
      "Below is an instruction that describes a task. Write a response that appropriately completes the request.\n",
      "\n",
      "### Instruction:\n",
      "What type of cloud is typically associated with thunderstorms?\n",
      "\n",
      "Expected Response: \n",
      "\tThe type of cloud typically associated with thunderstorms is cumulonimbus.\n",
      "Model Response: \n",
      "\tA thunderstorm is a type of thunderstorm that typically produces thunder and lightning.\n",
      "\n",
      "-------------------------------------\n",
      "\n",
      "Below is an instruction that describes a task. Write a response that appropriately completes the request.\n",
      "\n",
      "### Instruction:\n",
      "Name the author of 'Pride and Prejudice'.\n",
      "\n",
      "Expected Response: \n",
      "\tJane Austen.\n",
      "Model Response: \n",
      "\tThe author of 'Pride and Prejudice' is George Eliot.\n",
      "\n",
      "-------------------------------------\n",
      "\n"
     ]
    }
   ],
   "source": [
    "# testing the model\n",
    "\n",
    "for item in test_data[:3]:\n",
    "    input_text = format_input(item)\n",
    "\n",
    "    generated_tokens = text_generator.generate_text_input_text(\n",
    "        text=input_text,\n",
    "        max_new_tokens=256,\n",
    "        eos_id=50256\n",
    "    )\n",
    "    response_text = text_generator.encoder.decode(generated_tokens)\n",
    "    response_text = (\n",
    "        response_text[len(input_text):]\n",
    "        .replace(\"### Response:\", \"\")\n",
    "        .strip()\n",
    "    )\n",
    "\n",
    "    print(input_text)\n",
    "    print(f\"\\nExpected Response: \\n\\t{item['output']}\")\n",
    "    print(f\"Model Response: \\n\\t{response_text.strip()}\")\n",
    "    print(\"\\n-------------------------------------\\n\")\n",
    "\n"
   ]
  },
  {
   "cell_type": "code",
   "execution_count": 17,
   "id": "ed827a17",
   "metadata": {},
   "outputs": [
    {
     "name": "stderr",
     "output_type": "stream",
     "text": [
      "100%|██████████| 110/110 [11:46<00:00,  6.42s/it]\n"
     ]
    }
   ],
   "source": [
    "# for all test data\n",
    "from tqdm import tqdm\n",
    "\n",
    "for i, entry in tqdm(enumerate(test_data), total=len(test_data)):\n",
    "\n",
    "    input_text = format_input(entry)\n",
    "\n",
    "    generated_tokens = text_generator.generate_text_input_text(\n",
    "        input_text,\n",
    "        max_new_tokens=256,\n",
    "        eos_id=50256\n",
    "    )\n",
    "    response_text = text_generator.encoder.decode(generated_tokens)\n",
    "    response_text = (\n",
    "        response_text[len(input_text):]\n",
    "        .replace(\"### Response:\", \"\")\n",
    "        .strip()\n",
    "    )\n",
    "\n",
    "    test_data[i][\"model_response\"] = response_text\n",
    "\n",
    "\n",
    "with open(\"./instruction_data/instruction-data-with-model-response.json\", \"w\") as file:\n",
    "    json.dump(test_data, file, indent=4)"
   ]
  },
  {
   "cell_type": "code",
   "execution_count": 18,
   "id": "1b848ae8",
   "metadata": {},
   "outputs": [
    {
     "name": "stdout",
     "output_type": "stream",
     "text": [
      "Saved model as ./weights/gpt2-medium355M-instruction.pth\n"
     ]
    }
   ],
   "source": [
    "import re\n",
    "\n",
    "file_name = f\"./weights/{re.sub(r'[ ()]', '', model_name)}-instruction.pth\"\n",
    "torch.save(model.state_dict(), file_name)\n",
    "print(f\"Saved model as {file_name}\")"
   ]
  }
 ],
 "metadata": {
  "kernelspec": {
   "display_name": ".venv",
   "language": "python",
   "name": "python3"
  },
  "language_info": {
   "codemirror_mode": {
    "name": "ipython",
    "version": 3
   },
   "file_extension": ".py",
   "mimetype": "text/x-python",
   "name": "python",
   "nbconvert_exporter": "python",
   "pygments_lexer": "ipython3",
   "version": "3.11.9"
  }
 },
 "nbformat": 4,
 "nbformat_minor": 5
}
