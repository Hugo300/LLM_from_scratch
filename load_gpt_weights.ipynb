{
 "cells": [
  {
   "cell_type": "markdown",
   "id": "ca11597c",
   "metadata": {},
   "source": [
    "## Test loading weights from openai"
   ]
  },
  {
   "cell_type": "code",
   "execution_count": 32,
   "id": "21678323",
   "metadata": {},
   "outputs": [
    {
     "name": "stderr",
     "output_type": "stream",
     "text": [
      "checkpoint: 100%|██████████| 77.0/77.0 [00:00<00:00, 76.9kiB/s]\n",
      "encoder.json: 100%|██████████| 1.04M/1.04M [00:01<00:00, 725kiB/s] \n",
      "hparams.json: 100%|██████████| 91.0/91.0 [00:00<?, ?iB/s]\n",
      "model.ckpt.data-00000-of-00001: 100%|██████████| 3.10G/3.10G [1:12:57<00:00, 707kiB/s]   \n",
      "model.ckpt.index: 100%|██████████| 15.5k/15.5k [00:00<00:00, 15.5MiB/s]\n",
      "model.ckpt.meta: 100%|██████████| 1.38M/1.38M [00:01<00:00, 762kiB/s] \n",
      "vocab.bpe: 100%|██████████| 456k/456k [00:00<00:00, 490kiB/s]  \n"
     ]
    }
   ],
   "source": [
    "# Relative import from the gpt_download.py contained in this folder\n",
    "\n",
    "from tools.gpt_downloader import download_and_load_gpt2\n",
    "\n",
    "settings, params = download_and_load_gpt2(model_size=\"774M\", models_dir=\"gpt2\")"
   ]
  },
  {
   "cell_type": "code",
   "execution_count": 3,
   "id": "87b557d0",
   "metadata": {},
   "outputs": [
    {
     "name": "stdout",
     "output_type": "stream",
     "text": [
      "{'n_vocab': 50257, 'n_ctx': 1024, 'n_embd': 768, 'n_head': 12, 'n_layer': 12}\n"
     ]
    }
   ],
   "source": [
    "print(settings)"
   ]
  },
  {
   "cell_type": "code",
   "execution_count": 7,
   "id": "45899fda",
   "metadata": {},
   "outputs": [],
   "source": [
    "import torch"
   ]
  },
  {
   "cell_type": "code",
   "execution_count": 4,
   "id": "7450f695",
   "metadata": {},
   "outputs": [],
   "source": [
    "GPT_CONFIG_124M = {\n",
    "    \"vocab_size\": 50257,\n",
    "    \"context_length\": 256,\n",
    "    \"emb_dim\": 768,\n",
    "    \"n_heads\": 12,\n",
    "    \"n_layers\": 12,\n",
    "    \"drop_rate\": 0.1,\n",
    "    \"qkv_bias\": False \n",
    "}"
   ]
  },
  {
   "cell_type": "code",
   "execution_count": 33,
   "id": "f3c42450",
   "metadata": {},
   "outputs": [],
   "source": [
    "# Define model configurations in a dictionary for compactness\n",
    "model_configs = {\n",
    "    \"gpt2-small (124M)\": {\"emb_dim\": 768, \"n_layers\": 12, \"n_heads\": 12},\n",
    "    \"gpt2-medium (355M)\": {\"emb_dim\": 1024, \"n_layers\": 24, \"n_heads\": 16},\n",
    "    \"gpt2-large (774M)\": {\"emb_dim\": 1280, \"n_layers\": 36, \"n_heads\": 20},\n",
    "    \"gpt2-xl (1558M)\": {\"emb_dim\": 1600, \"n_layers\": 48, \"n_heads\": 25},\n",
    "}\n",
    "\n",
    "# Copy the base configuration and update with specific model settings\n",
    "model_name = \"gpt2-large (774M)\"  # Example model name\n",
    "NEW_CONFIG = GPT_CONFIG_124M.copy()\n",
    "NEW_CONFIG.update(model_configs[model_name])\n",
    "NEW_CONFIG.update({\"context_length\": 1024, \"qkv_bias\": True})\n",
    "\n",
    "\n",
    "from classes.model import GPTModel\n",
    "\n",
    "gpt = GPTModel(NEW_CONFIG)\n",
    "gpt.eval();"
   ]
  },
  {
   "cell_type": "code",
   "execution_count": 8,
   "id": "b237f1b2",
   "metadata": {},
   "outputs": [],
   "source": [
    "def assign(left, right):\n",
    "    if left.shape != right.shape:\n",
    "        raise ValueError(f\"Size mismatch: {left.shape} - {right.shape}\")\n",
    "    \n",
    "    return torch.nn.Parameter(torch.tensor(right))"
   ]
  },
  {
   "cell_type": "code",
   "execution_count": 34,
   "id": "0f0b49a8",
   "metadata": {},
   "outputs": [],
   "source": [
    "import numpy as np\n",
    "\n",
    "# load a convert the gpt parameters to our model class.\n",
    "\n",
    "def load_weights_into_gpt(gpt, params):\n",
    "    gpt.position_emb.weight = assign(gpt.position_emb.weight, params['wpe'])\n",
    "    gpt.token_emb.weight = assign(gpt.token_emb.weight, params['wte'])\n",
    "    \n",
    "    for b in range(len(params[\"blocks\"])):\n",
    "        q_w, k_w, v_w = np.split(\n",
    "            (params[\"blocks\"][b][\"attn\"][\"c_attn\"])[\"w\"], 3, axis=-1)\n",
    "        gpt.trf_blocks[b].attention.W_queries.weight = assign(\n",
    "            gpt.trf_blocks[b].attention.W_queries.weight, q_w.T)\n",
    "        gpt.trf_blocks[b].attention.W_keys.weight = assign(\n",
    "            gpt.trf_blocks[b].attention.W_keys.weight, k_w.T)\n",
    "        gpt.trf_blocks[b].attention.W_values.weight = assign(\n",
    "            gpt.trf_blocks[b].attention.W_values.weight, v_w.T)\n",
    "\n",
    "        q_b, k_b, v_b = np.split(\n",
    "            (params[\"blocks\"][b][\"attn\"][\"c_attn\"])[\"b\"], 3, axis=-1)\n",
    "        gpt.trf_blocks[b].attention.W_queries.bias = assign(\n",
    "            gpt.trf_blocks[b].attention.W_queries.bias, q_b)\n",
    "        gpt.trf_blocks[b].attention.W_keys.bias = assign(\n",
    "            gpt.trf_blocks[b].attention.W_keys.bias, k_b)\n",
    "        gpt.trf_blocks[b].attention.W_values.bias = assign(\n",
    "            gpt.trf_blocks[b].attention.W_values.bias, v_b)\n",
    "\n",
    "        gpt.trf_blocks[b].attention.out_proj.weight = assign(\n",
    "            gpt.trf_blocks[b].attention.out_proj.weight, \n",
    "            params[\"blocks\"][b][\"attn\"][\"c_proj\"][\"w\"].T)\n",
    "        gpt.trf_blocks[b].attention.out_proj.bias = assign(\n",
    "            gpt.trf_blocks[b].attention.out_proj.bias, \n",
    "            params[\"blocks\"][b][\"attn\"][\"c_proj\"][\"b\"])\n",
    "\n",
    "        gpt.trf_blocks[b].fforward.layers[0].weight = assign(\n",
    "            gpt.trf_blocks[b].fforward.layers[0].weight, \n",
    "            params[\"blocks\"][b][\"mlp\"][\"c_fc\"][\"w\"].T)\n",
    "        gpt.trf_blocks[b].fforward.layers[0].bias = assign(\n",
    "            gpt.trf_blocks[b].fforward.layers[0].bias, \n",
    "            params[\"blocks\"][b][\"mlp\"][\"c_fc\"][\"b\"])\n",
    "        gpt.trf_blocks[b].fforward.layers[2].weight = assign(\n",
    "            gpt.trf_blocks[b].fforward.layers[2].weight, \n",
    "            params[\"blocks\"][b][\"mlp\"][\"c_proj\"][\"w\"].T)\n",
    "        gpt.trf_blocks[b].fforward.layers[2].bias = assign(\n",
    "            gpt.trf_blocks[b].fforward.layers[2].bias, \n",
    "            params[\"blocks\"][b][\"mlp\"][\"c_proj\"][\"b\"])\n",
    "\n",
    "        gpt.trf_blocks[b].norm_1.scale = assign(\n",
    "            gpt.trf_blocks[b].norm_1.scale, \n",
    "            params[\"blocks\"][b][\"ln_1\"][\"g\"])\n",
    "        gpt.trf_blocks[b].norm_1.shift = assign(\n",
    "            gpt.trf_blocks[b].norm_1.shift, \n",
    "            params[\"blocks\"][b][\"ln_1\"][\"b\"])\n",
    "        gpt.trf_blocks[b].norm_2.scale = assign(\n",
    "            gpt.trf_blocks[b].norm_2.scale, \n",
    "            params[\"blocks\"][b][\"ln_2\"][\"g\"])\n",
    "        gpt.trf_blocks[b].norm_2.shift = assign(\n",
    "            gpt.trf_blocks[b].norm_2.shift, \n",
    "            params[\"blocks\"][b][\"ln_2\"][\"b\"])\n",
    "\n",
    "    gpt.final_norm.scale = assign(gpt.final_norm.scale, params[\"g\"])\n",
    "    gpt.final_norm.shift = assign(gpt.final_norm.shift, params[\"b\"])\n",
    "    gpt.output_layer.weight = assign(gpt.output_layer.weight, params[\"wte\"])\n",
    "    \n",
    "\n",
    "device = 'cpu'\n",
    "load_weights_into_gpt(gpt, params)\n",
    "gpt.to(device);"
   ]
  },
  {
   "cell_type": "code",
   "execution_count": 35,
   "id": "b9e10efc",
   "metadata": {},
   "outputs": [],
   "source": [
    "from classes.generation import generator, TextTokenConversion\n",
    "import tiktoken\n",
    "\n",
    "tokenizer=tiktoken.get_encoding(\"gpt2\")\n",
    "gen = generator(gpt, TextTokenConversion(tokenizer))"
   ]
  },
  {
   "cell_type": "code",
   "execution_count": 38,
   "id": "831592f8",
   "metadata": {},
   "outputs": [
    {
     "name": "stdout",
     "output_type": "stream",
     "text": [
      "Every effort moves you toward finding an ideal life. You don't have to accept your problems by trying to hide them, because that won't happen.\" She then continued: \"…and with a simple, clear and direct thought, no more worrying over your past problems…there\n"
     ]
    }
   ],
   "source": [
    "torch.manual_seed(123)\n",
    "\n",
    "tokens = gen.generate_text(gen.encoder.encode(\"Every effort moves you\"), 50, temperature=1.5, topk=50)\n",
    "print(gen.encoder.decode(tokens))"
   ]
  }
 ],
 "metadata": {
  "kernelspec": {
   "display_name": ".venv",
   "language": "python",
   "name": "python3"
  },
  "language_info": {
   "codemirror_mode": {
    "name": "ipython",
    "version": 3
   },
   "file_extension": ".py",
   "mimetype": "text/x-python",
   "name": "python",
   "nbconvert_exporter": "python",
   "pygments_lexer": "ipython3",
   "version": "3.11.9"
  }
 },
 "nbformat": 4,
 "nbformat_minor": 5
}
