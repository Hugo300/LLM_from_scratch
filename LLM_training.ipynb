{
 "cells": [
  {
   "cell_type": "markdown",
   "id": "dffe8a8f",
   "metadata": {},
   "source": [
    "## Pre-Training LLM"
   ]
  },
  {
   "cell_type": "code",
   "execution_count": 1,
   "id": "de13aab1",
   "metadata": {},
   "outputs": [],
   "source": [
    "import torch\n",
    "import tiktoken\n",
    "\n",
    "from classes.model import GPTModel\n",
    "\n",
    "GPT_CONFIG = {\n",
    "    \"vocab_size\": 50257,\n",
    "    \"context_length\": 256,\n",
    "    \"emb_dim\": 768,\n",
    "    \"n_heads\": 12,\n",
    "    \"n_layers\": 12,\n",
    "    \"drop_rate\": 0.1,\n",
    "    \"qkv_bias\": False \n",
    "}"
   ]
  },
  {
   "cell_type": "code",
   "execution_count": 2,
   "id": "64bd09f5",
   "metadata": {},
   "outputs": [],
   "source": [
    "class TextTokenConversion():\n",
    "    def __init__(self, tokenizer):\n",
    "        self.tokenizer = tokenizer\n",
    "\n",
    "    def encode(self, text):\n",
    "        encoded = self.tokenizer.encode(text, allowed_special={\"<|endoftext|>\"})\n",
    "\n",
    "        return torch.tensor(encoded).unsqueeze(0)\n",
    "    \n",
    "    def decode(self, ids):\n",
    "        return self.tokenizer.decode(ids.squeeze(0).tolist())"
   ]
  },
  {
   "cell_type": "code",
   "execution_count": 3,
   "id": "b9b6824b",
   "metadata": {},
   "outputs": [],
   "source": [
    "def generate_text_simple(model, idx, max_new_tokens, context_size):\n",
    "\n",
    "    for _ in range(max_new_tokens):\n",
    "        context = idx[:, -context_size:]\n",
    "\n",
    "        with torch.no_grad():\n",
    "            logits = model(context)\n",
    "        prob = torch.softmax(logits[:, -1, :], dim=-1)\n",
    "        new_idx = torch.argmax(prob, dim=-1, keepdim=True)\n",
    "\n",
    "        idx = torch.cat((idx, new_idx), dim=1)\n",
    "\n",
    "    return idx"
   ]
  },
  {
   "cell_type": "code",
   "execution_count": 4,
   "id": "5f8bd661",
   "metadata": {},
   "outputs": [],
   "source": [
    "torch.manual_seed(123)\n",
    "model = GPTModel(GPT_CONFIG)\n",
    "model.eval();"
   ]
  },
  {
   "cell_type": "code",
   "execution_count": 5,
   "id": "26f2b6d6",
   "metadata": {},
   "outputs": [],
   "source": [
    "tt_convert = TextTokenConversion(\n",
    "    tokenizer=tiktoken.get_encoding(\"gpt2\")\n",
    ")"
   ]
  },
  {
   "cell_type": "code",
   "execution_count": 6,
   "id": "f6436bc9",
   "metadata": {},
   "outputs": [],
   "source": [
    "inputs = torch.tensor([[16833, 3626, 6100],   # [\"every effort moves\",\n",
    "                       [40,    1107, 588]])   #  \"I really like\"]\n",
    "\n",
    "targets = torch.tensor([[3626, 6100, 345  ],  # [\" effort moves you\",\n",
    "                        [1107,  588, 11311]]) #  \" really like chocolate\"]"
   ]
  },
  {
   "cell_type": "code",
   "execution_count": 7,
   "id": "272b20cd",
   "metadata": {},
   "outputs": [],
   "source": [
    "new_token_ids = generate_text_simple(\n",
    "    model,\n",
    "    inputs,\n",
    "    10,\n",
    "    context_size=GPT_CONFIG[\"context_length\"])\n"
   ]
  },
  {
   "cell_type": "markdown",
   "id": "8069b97b",
   "metadata": {},
   "source": [
    "## Loss function (cross-entropy)"
   ]
  },
  {
   "cell_type": "code",
   "execution_count": 8,
   "id": "db1b98d8",
   "metadata": {},
   "outputs": [],
   "source": [
    "logits = model(inputs)\n",
    "probs = torch.softmax(logits, dim=-1)"
   ]
  },
  {
   "cell_type": "code",
   "execution_count": 9,
   "id": "31812eb5",
   "metadata": {},
   "outputs": [
    {
     "name": "stdout",
     "output_type": "stream",
     "text": [
      "tensor([7.4540e-05, 3.1061e-05, 1.1563e-05], grad_fn=<IndexBackward0>)\n"
     ]
    }
   ],
   "source": [
    "txt_id = 0\n",
    "target_prob_1 = probs[txt_id, [0, 1, 2], targets[txt_id]]\n",
    "print(target_prob_1)"
   ]
  },
  {
   "cell_type": "code",
   "execution_count": 10,
   "id": "c9b76f5f",
   "metadata": {},
   "outputs": [
    {
     "name": "stdout",
     "output_type": "stream",
     "text": [
      "tensor([1.0337e-05, 5.6776e-05, 4.7559e-06], grad_fn=<IndexBackward0>)\n"
     ]
    }
   ],
   "source": [
    "txt_id = 1\n",
    "target_prob_2 = probs[txt_id, [0, 1, 2], targets[txt_id]]\n",
    "print(target_prob_2)"
   ]
  },
  {
   "cell_type": "code",
   "execution_count": 11,
   "id": "cf748f74",
   "metadata": {},
   "outputs": [
    {
     "name": "stdout",
     "output_type": "stream",
     "text": [
      "tensor(10.7940, grad_fn=<MulBackward0>)\n"
     ]
    }
   ],
   "source": [
    "log_probs = torch.log(torch.cat((target_prob_1, target_prob_2)))\n",
    "mean = -1 * torch.mean(log_probs)\n",
    "print(mean)"
   ]
  },
  {
   "cell_type": "code",
   "execution_count": 12,
   "id": "491c3b69",
   "metadata": {},
   "outputs": [
    {
     "data": {
      "text/plain": [
       "tensor(10.7940, grad_fn=<NllLossBackward0>)"
      ]
     },
     "execution_count": 12,
     "metadata": {},
     "output_type": "execute_result"
    }
   ],
   "source": [
    "# using the built in function\n",
    "logits_flat = logits.flatten(0, 1)\n",
    "targets_flat = targets.flatten()\n",
    "\n",
    "torch.nn.functional.cross_entropy(logits_flat, targets_flat)"
   ]
  },
  {
   "cell_type": "markdown",
   "id": "d6d9ba71",
   "metadata": {},
   "source": [
    "### losses for the whole training / validation sets"
   ]
  },
  {
   "cell_type": "code",
   "execution_count": 13,
   "id": "9f12b53a",
   "metadata": {},
   "outputs": [],
   "source": [
    "with open(\"data/the-verdict.txt\", \"r\", encoding=\"utf-8\") as file:\n",
    "    raw_text = file.read()\n",
    "\n",
    "\n",
    "from classes.dataloader import create_dataloader\n",
    "\n",
    "train_ratio = 0.9\n",
    "split_idx = int(train_ratio * len(raw_text))\n",
    "train_data = raw_text[:split_idx]\n",
    "valid_data = raw_text[split_idx:]"
   ]
  },
  {
   "cell_type": "code",
   "execution_count": 14,
   "id": "1dbd0ac9",
   "metadata": {},
   "outputs": [],
   "source": [
    "# create data loader\n",
    "torch.manual_seed(123)\n",
    "\n",
    "train_loader = create_dataloader(\n",
    "    train_data,\n",
    "    tokenizer=tt_convert.tokenizer,\n",
    "    batch_size=2,\n",
    "    max_length=GPT_CONFIG[\"context_length\"],\n",
    "    stride=GPT_CONFIG[\"context_length\"],\n",
    "    drop_last=True,\n",
    "    shuffle=True,\n",
    "    num_workers=0\n",
    ")\n",
    "\n",
    "valid_loader = create_dataloader(\n",
    "    valid_data,\n",
    "    tokenizer=tt_convert.tokenizer,\n",
    "    batch_size=2,\n",
    "    max_length=GPT_CONFIG[\"context_length\"],\n",
    "    stride=GPT_CONFIG[\"context_length\"],\n",
    "    drop_last=True,\n",
    "    shuffle=True,\n",
    "    num_workers=0\n",
    ")"
   ]
  },
  {
   "cell_type": "code",
   "execution_count": 15,
   "id": "da7bde25",
   "metadata": {},
   "outputs": [],
   "source": [
    "# calculating loss\n",
    "def calc_loss_batch(input_batch, target_batch, model, device):\n",
    "    input_batch, target_batch = input_batch.to(device), target_batch.to(device)\n",
    "\n",
    "    logits = model(input_batch)\n",
    "    loss = torch.nn.functional.cross_entropy(\n",
    "        logits.flatten(0, 1),\n",
    "        target_batch.flatten()\n",
    "    )\n",
    "\n",
    "    return loss\n",
    "\n",
    "def calc_loss_loader(data_loader, model, device, num_bacthes=None):\n",
    "    total_loss = 0\n",
    "\n",
    "    if len(data_loader) == 0:\n",
    "        return float(\"nan\")\n",
    "    elif num_bacthes is None:\n",
    "        num_bacthes = len(data_loader)\n",
    "    else:\n",
    "        num_bacthes = min(num_bacthes, len(data_loader))\n",
    "\n",
    "    for i, (input_batch, target_batch) in enumerate(data_loader):\n",
    "        if i < num_bacthes:\n",
    "            loss = calc_loss_batch(input_batch, target_batch, model, device)\n",
    "            total_loss += loss\n",
    "        else:\n",
    "            break\n",
    "\n",
    "    return total_loss / num_bacthes"
   ]
  },
  {
   "cell_type": "code",
   "execution_count": 16,
   "id": "2d8c603e",
   "metadata": {},
   "outputs": [
    {
     "name": "stdout",
     "output_type": "stream",
     "text": [
      "tensor(10.9876)\n",
      "tensor(10.9811)\n"
     ]
    }
   ],
   "source": [
    "# example\n",
    "torch.manual_seed(123)\n",
    "device = \"cpu\"\n",
    "\n",
    "with torch.no_grad():\n",
    "    train_loss = calc_loss_loader(train_loader, model, device)\n",
    "    valid_loss = calc_loss_loader(valid_loader, model, device)\n",
    "\n",
    "print(train_loss)\n",
    "print(valid_loss)"
   ]
  },
  {
   "cell_type": "markdown",
   "id": "fc0cdc8f",
   "metadata": {},
   "source": [
    "## Training"
   ]
  },
  {
   "cell_type": "code",
   "execution_count": 17,
   "id": "7d862f77",
   "metadata": {},
   "outputs": [],
   "source": [
    "def train_model_simple(\n",
    "    model, train_loader, valid_loader, optimizer, device, \n",
    "    num_epochs, eval_freq, eval_iter, start_context, tt_convert):\n",
    "\n",
    "    train_losses, valid_losses, track_tokens_seen = [], [], []\n",
    "    tokens_seen, global_step = 0, -1\n",
    "\n",
    "    # main loop\n",
    "    for epoch in range(num_epochs):\n",
    "        model.train()\n",
    "\n",
    "        for input_batch, target_batch in train_loader:\n",
    "            optimizer.zero_grad() # resets the gradients\n",
    "            loss = calc_loss_batch(input_batch, target_batch, model, device)\n",
    "            loss.backward()\n",
    "            optimizer.step()\n",
    "\n",
    "            tokens_seen += input_batch.numel()\n",
    "            global_step += 1\n",
    "\n",
    "            # eval step\n",
    "            if global_step % eval_freq == 0:\n",
    "                train_loss, valid_loss = evaluate_model(model, train_loader, valid_loader, device, eval_iter)\n",
    "                \n",
    "                train_losses.append(train_loss)\n",
    "                valid_losses.append(valid_loss)\n",
    "                track_tokens_seen.append(tokens_seen)\n",
    "\n",
    "                print(f\"Epoch {epoch+1} (Step {global_step:06d}): \"\n",
    "                      f\"Train loss: {train_loss:.3f}, Valid loss: {valid_loss:.3f}\")\n",
    "                \n",
    "        generate_and_print_sample(model, tt_convert, device, start_context)\n",
    "\n",
    "    return train_losses, valid_losses, track_tokens_seen\n",
    "\n",
    "\n",
    "def evaluate_model(model, train_loader, valid_loader, device, eval_iter):\n",
    "    model.eval()\n",
    "\n",
    "    with torch.no_grad():\n",
    "        train_loss = calc_loss_loader(train_loader, model, device, num_bacthes=eval_iter)\n",
    "        valid_loss = calc_loss_loader(valid_loader, model, device, num_bacthes=eval_iter)\n",
    "    \n",
    "    model.train()\n",
    "    return train_loss, valid_loss\n",
    "\n",
    "\n",
    "def generate_and_print_sample(model, tt_convert, device, start_context):\n",
    "    model.eval()\n",
    "\n",
    "    context_size = model.position_emb.weight.shape[0]\n",
    "    encoded = tt_convert.encode(start_context).to(device)\n",
    "\n",
    "    with torch.no_grad():\n",
    "        token_ids = generate_text_simple(\n",
    "            model=model,\n",
    "            idx=encoded,\n",
    "            max_new_tokens=50,\n",
    "            context_size=context_size\n",
    "        )\n",
    "\n",
    "    decoded_text = tt_convert.decode(token_ids)\n",
    "    print(decoded_text.replace(\"\\n\", \" \"))\n",
    "\n",
    "    model.train()\n",
    "\n"
   ]
  },
  {
   "cell_type": "code",
   "execution_count": 18,
   "id": "add137d6",
   "metadata": {},
   "outputs": [],
   "source": [
    "torch.manual_seed(123)\n",
    "device = \"cpu\"\n",
    "\n",
    "model = GPTModel(GPT_CONFIG)\n",
    "model.to(device)\n",
    "\n",
    "optimizer = torch.optim.AdamW(model.parameters(), lr=0.0004, weight_decay=0.1)"
   ]
  },
  {
   "cell_type": "code",
   "execution_count": 19,
   "id": "9083a0b8",
   "metadata": {},
   "outputs": [
    {
     "name": "stdout",
     "output_type": "stream",
     "text": [
      "Epoch 1 (Step 000000): Train loss: 9.781, Valid loss: 9.933\n",
      "Epoch 1 (Step 000005): Train loss: 8.072, Valid loss: 8.341\n",
      "Every effort moves you,,,,,,,,,,,,.                                     \n",
      "Epoch 2 (Step 000010): Train loss: 6.752, Valid loss: 7.044\n",
      "Epoch 2 (Step 000015): Train loss: 6.094, Valid loss: 6.597\n",
      "Every effort moves you, the,, the,, the,,,,.                                     \n",
      "Epoch 3 (Step 000020): Train loss: 6.197, Valid loss: 6.821\n",
      "Epoch 3 (Step 000025): Train loss: 5.237, Valid loss: 6.372\n",
      "Every effort moves you.               \"I was the picture.      \"I was the the picture. \"I the honour, and I had\"I was.  \n",
      "Epoch 4 (Step 000030): Train loss: 4.857, Valid loss: 6.277\n",
      "Epoch 4 (Step 000035): Train loss: 4.207, Valid loss: 6.262\n",
      "Every effort moves you, and I had been the picture of the picture.                                       \n",
      "Epoch 5 (Step 000040): Train loss: 4.078, Valid loss: 6.243\n",
      "Every effort moves you know it was not to the picture--I to the                                       \n",
      "Epoch 6 (Step 000045): Train loss: 3.225, Valid loss: 6.132\n",
      "Epoch 6 (Step 000050): Train loss: 2.393, Valid loss: 6.151\n",
      "Every effort moves you know,\" was not that I felt as it--I had a good-rooms, and he was, and in fact, and I had been the moment--as Jack himself, as his own painting, of Jack's \"strong. Gisburn\n",
      "Epoch 7 (Step 000055): Train loss: 2.074, Valid loss: 6.237\n",
      "Epoch 7 (Step 000060): Train loss: 1.679, Valid loss: 6.239\n",
      "Every effort moves you?\" \" on a little Mrs.  \"--as such--had not till his--and that one of Jack's degree to the donkey. \"I-c. \"I looked up his pictures--because he had been his\n",
      "Epoch 8 (Step 000065): Train loss: 1.281, Valid loss: 6.287\n",
      "Epoch 8 (Step 000070): Train loss: 0.988, Valid loss: 6.333\n",
      "Every effort moves you?\"  \"Yes--quite insensible to the fact with a laugh: \"Yes--and by me!\"  He laughed again, and threw back his glory, and as once one had I turned, and down the room, when I\n",
      "Epoch 9 (Step 000075): Train loss: 0.646, Valid loss: 6.379\n",
      "Epoch 9 (Step 000080): Train loss: 0.412, Valid loss: 6.438\n",
      "Every effort moves you?\"  \"Yes--quite insensible to the irony. She wanted him vindicated--and by me!\"  He laughed again, and threw back his head to look up at the sketch of the donkey. \"There were days when I\n",
      "Epoch 10 (Step 000085): Train loss: 0.332, Valid loss: 6.514\n",
      "Every effort moves you?\"  \"Yes--quite insensible to the irony. She wanted him vindicated--and by me!\"  He laughed again, and threw back the window-curtains, moved aside a _jardiniere_ full of\n"
     ]
    }
   ],
   "source": [
    "num_epochs = 10\n",
    "\n",
    "train_losses, valid_losses, tokens_seen = train_model_simple(\n",
    "    model,\n",
    "    train_loader,\n",
    "    valid_loader,\n",
    "    optimizer,\n",
    "    device,\n",
    "    num_epochs,\n",
    "    eval_freq=5,\n",
    "    eval_iter=5,\n",
    "    start_context=\"Every effort moves you\",\n",
    "    tt_convert=tt_convert\n",
    ")"
   ]
  },
  {
   "cell_type": "code",
   "execution_count": 20,
   "id": "3f59f7c4",
   "metadata": {},
   "outputs": [
    {
     "data": {
      "image/png": "[encoded data removed]",
      "text/plain": [
       "<Figure size 500x300 with 2 Axes>"
      ]
     },
     "metadata": {},
     "output_type": "display_data"
    }
   ],
   "source": [
    "import matplotlib.pyplot as plt\n",
    "from matplotlib.ticker import MaxNLocator\n",
    "\n",
    "\n",
    "def plot_losses(epochs_seen, tokens_seen, train_losses, valid_losses):\n",
    "    fig, ax1 = plt.subplots(figsize=(5, 3))\n",
    "\n",
    "    # Plot training and validation loss against epochs\n",
    "    ax1.plot(epochs_seen, train_losses, label=\"Training loss\")\n",
    "    ax1.plot(epochs_seen, valid_losses, linestyle=\"-.\", label=\"Validation loss\")\n",
    "    ax1.set_xlabel(\"Epochs\")\n",
    "    ax1.set_ylabel(\"Loss\")\n",
    "    ax1.legend(loc=\"upper right\")\n",
    "    ax1.xaxis.set_major_locator(MaxNLocator(integer=True))  # only show integer labels on x-axis\n",
    "\n",
    "    # Create a second x-axis for tokens seen\n",
    "    ax2 = ax1.twiny()  # Create a second x-axis that shares the same y-axis\n",
    "    ax2.plot(tokens_seen, train_losses, alpha=0)  # Invisible plot for aligning ticks\n",
    "    ax2.set_xlabel(\"Tokens seen\")\n",
    "\n",
    "    fig.tight_layout()  # Adjust layout to make room\n",
    "    plt.savefig(\"loss-plot.pdf\")\n",
    "    plt.show()\n",
    "\n",
    "epochs_tensor = torch.linspace(0, num_epochs, len(train_losses))\n",
    "plot_losses(epochs_tensor, tokens_seen, train_losses, valid_losses)"
   ]
  },
  {
   "cell_type": "markdown",
   "id": "0431a78e",
   "metadata": {},
   "source": [
    "## Save model weights to file"
   ]
  },
  {
   "cell_type": "code",
   "execution_count": null,
   "id": "6dd92b65",
   "metadata": {},
   "outputs": [],
   "source": [
    "model.save_weights(\"./weights/custom.pth\")"
   ]
  },
  {
   "cell_type": "markdown",
   "id": "318e260b",
   "metadata": {},
   "source": [
    "## Text Generation Improvments"
   ]
  },
  {
   "cell_type": "code",
   "execution_count": 21,
   "id": "e568633a",
   "metadata": {},
   "outputs": [],
   "source": [
    "# this reloads modules recurrsively\n",
    "import tools.reload_modules"
   ]
  },
  {
   "cell_type": "code",
   "execution_count": 46,
   "id": "ac5aa869",
   "metadata": {},
   "outputs": [],
   "source": [
    "%reload classes.generation\n",
    "from classes.generation import generator\n",
    "\n",
    "gen = generator(model=model, encoder=tt_convert)"
   ]
  },
  {
   "cell_type": "code",
   "execution_count": 29,
   "id": "a6890549",
   "metadata": {},
   "outputs": [
    {
     "name": "stdout",
     "output_type": "stream",
     "text": [
      "Hello There  sunlit terrace.  I glanced after him, struck by his last word. Victor Grind\n"
     ]
    }
   ],
   "source": [
    "gen.generate_and_print(start_context=\"Hello There \", num_gen_tokens=20, device=device, method=\"simple\")"
   ]
  },
  {
   "cell_type": "markdown",
   "id": "991bbead",
   "metadata": {},
   "source": [
    "## Temperature scalling"
   ]
  },
  {
   "cell_type": "code",
   "execution_count": 30,
   "id": "ee5ba545",
   "metadata": {},
   "outputs": [
    {
     "name": "stdout",
     "output_type": "stream",
     "text": [
      "Hello There  tossing wasographers rotting my surprise repl a cheap genius--I so inevitably the sweetness now it the log\n"
     ]
    }
   ],
   "source": [
    "kwargs = {\"temperature\": 1}\n",
    "gen.generate_and_print(start_context=\"Hello There \", num_gen_tokens=20, device=device, method=\"temperature\", **kwargs)"
   ]
  },
  {
   "cell_type": "markdown",
   "id": "4761f718",
   "metadata": {},
   "source": [
    "# Combination with top-k sampling"
   ]
  },
  {
   "cell_type": "code",
   "execution_count": null,
   "id": "72dbb732",
   "metadata": {},
   "outputs": [
    {
     "name": "stdout",
     "output_type": "stream",
     "text": [
      "Hello There  slightly, without bitterness, and the mant of the deep arm-chairs forward.\n",
      "\"Never till\n"
     ]
    }
   ],
   "source": [
    "tokens = gen.generate_text(idx=gen.encoder.encode(\"Hello There \"), max_new_tokens=20, temperature=1.4, topk=25)\n",
    "print(gen.encoder.decode(tokens))"
   ]
  }
 ],
 "metadata": {
  "kernelspec": {
   "display_name": ".venv",
   "language": "python",
   "name": "python3"
  },
  "language_info": {
   "codemirror_mode": {
    "name": "ipython",
    "version": 3
   },
   "file_extension": ".py",
   "mimetype": "text/x-python",
   "name": "python",
   "nbconvert_exporter": "python",
   "pygments_lexer": "ipython3",
   "version": "3.11.9"
  }
 },
 "nbformat": 4,
 "nbformat_minor": 5
}
