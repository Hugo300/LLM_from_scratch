{
 "cells": [
  {
   "cell_type": "markdown",
   "id": "e44f8936",
   "metadata": {},
   "source": [
    "# This creates a Byte Pair Encoding tokenizer from scratch.\n",
    "\n",
    "it is based on this git repo:\n",
    "https://github.com/rasbt/LLMs-from-scratch/blob/main/ch02/05_bpe-from-scratch/bpe-from-scratch.ipynb"
   ]
  },
  {
   "cell_type": "code",
   "execution_count": 3,
   "id": "9df4b974",
   "metadata": {},
   "outputs": [],
   "source": [
    "from collections import Counter, deque\n",
    "import json"
   ]
  },
  {
   "cell_type": "code",
   "execution_count": 4,
   "id": "ee23769c",
   "metadata": {},
   "outputs": [],
   "source": [
    "class BPETokenizerSimple:\n",
    "    def __init__(self):\n",
    "        # maping token id to str\n",
    "        self.vocab = {}\n",
    "        # maping the reverse\n",
    "        self.inverse_vocab = {}\n",
    "        # dictionary of BPE merges\n",
    "        self.bpe_merges = {}\n",
    "\n",
    "        # For the official OpenAI GPT-2 merges, use a rank dict:\n",
    "        #  of form {(string_A, string_B): rank}, where lower rank = higher priority\n",
    "        self.bpe_ranks = {}\n",
    "\n",
    "        # from gpt2 (uses \"Ġ\" instead of spaces...)\n",
    "        self.spc_char = \"Ġ\"\n",
    "\n",
    "    def train(self, text, vocab_size, allowed_special={\"<|endoftext|>\"}):\n",
    "        \"\"\"Train the BPE from scratch\"\"\"\n",
    "\n",
    "        processed_text = []\n",
    "        for i, char in enumerate(text):\n",
    "            if char == \" \" and i != 0:\n",
    "                processed_text.append(self.spc_char)\n",
    "            if char != \" \":\n",
    "                processed_text.append(char)\n",
    "        processed_text = \"\".join(processed_text)\n",
    "\n",
    "        # Initialize the vocabulary using the 255 ascii characters\n",
    "        unique_chars = [chr(i) for i in range(256)]\n",
    "        # Add any char in the text not in the ascii range\n",
    "        unique_chars.extend(\n",
    "            char for char in sorted(set(processed_text))\n",
    "            if char not in unique_chars\n",
    "        )\n",
    "        # Make sure the \"space\" is included\n",
    "        if self.spc_char not in unique_chars:\n",
    "            unique_chars.append(self.spc_char)\n",
    "        # add special tokens\n",
    "        if allowed_special:\n",
    "            unique_chars.extend(allowed_special)\n",
    "\n",
    "        self.vocab = {i: char for i, char in enumerate(unique_chars)}\n",
    "        self.inverse_vocab = {char: i for i, char in self.vocab.items()}\n",
    "\n",
    "        # tokenize the text\n",
    "        tokens = [self.inverse_vocab[char] for char in processed_text]\n",
    "\n",
    "        # find char pairs\n",
    "        for new_id in range(len(self.vocab), vocab_size):\n",
    "            pair_id = self.find_freq_pair(tokens, mode='most')\n",
    "            if pair_id is None:\n",
    "                break\n",
    "            tokens = self.replace_pair(tokens, pair_id, new_id)\n",
    "            self.bpe_merges[pair_id] = new_id\n",
    "\n",
    "        # build updated vocab with the new merges\n",
    "        for (p0, p1), new_id in self.bpe_merges.items():\n",
    "            merged_token = self.vocab[p0] + self.vocab[p1]\n",
    "            self.vocab[new_id] = merged_token\n",
    "            self.inverse_vocab[merged_token] = new_id\n",
    "\n",
    "    def encode(self, text, allowed_especial=None):\n",
    "        import re\n",
    "\n",
    "        tokens = []\n",
    "        if allowed_especial is not None and len(allowed_especial) > 0:\n",
    "            special_regex = (\n",
    "                \"(\" + \"|\".join(re.escape(tok) for tok in sorted(allowed_special, key=len, reverse=True)) + \")\"\n",
    "            )\n",
    "            last_index = 0\n",
    "            for match in re.finditer(special_regex, text):\n",
    "                prefix = text[last_index:match.start()]\n",
    "                tokens.extend(self.encode(prefix, allowed_especial=None))\n",
    "\n",
    "                special_token = match.group(0)\n",
    "                if special_token in self.inverse_vocab:\n",
    "                    tokens.append(self.inverse_vocab[special_token])\n",
    "                else:\n",
    "                    raise ValueError(f\"Special token {special_token} not found in vocabulary\")\n",
    "\n",
    "            text = text[last_index:]\n",
    "\n",
    "            disallowed = [\n",
    "                tok for tok in self.inverse_vocab\n",
    "                if tok.startswith(\"<|\") and tok.endswith(\"|>\") and tok in text and tok not in allowed_especial\n",
    "            ]\n",
    "            if disallowed:\n",
    "                raise ValueError(f\"Special token {special_token} found in text not allowed\")\n",
    "            \n",
    "        str_tokens = []\n",
    "        lines = text.split(\"\\n\")\n",
    "        for i, line in enumerate(lines):\n",
    "            if i > 0:\n",
    "                str_tokens.append(\"\\n\")\n",
    "\n",
    "            words = line.split()\n",
    "            for j, word in enumerate(words):\n",
    "                if j == 0 and i == 0: # dont add a space on the first word of the first line\n",
    "                    str_tokens.append(word)\n",
    "                else:\n",
    "                    str_tokens.append(self.spc_char + word)\n",
    "\n",
    "        # Convert the char tokens to integer\n",
    "        for token in str_tokens:\n",
    "            if token in self.inverse_vocab:\n",
    "                tokens.append(self.inverse_vocab[token])\n",
    "            else:\n",
    "                tokens.extend(self.tokenize_with_bpe(token))\n",
    "\n",
    "        return tokens\n",
    "\n",
    "    def tokenize_with_bpe(self, token, method='own'):\n",
    "        tokens = [self.inverse_vocab.get(char, None) for char in token]\n",
    "\n",
    "        if None in tokens:\n",
    "            missing_chars = [char for char, tid in zip(token, tokens) if tid is None]\n",
    "            raise ValueError(f\"Characters not found in vocabulary: {missing_chars}\")\n",
    "        \n",
    "        if method == 'own':\n",
    "            can_merge = True\n",
    "            while can_merge and len(tokens) > 1:\n",
    "                can_merge = False\n",
    "                new_tokens = []\n",
    "\n",
    "                i = 0\n",
    "                while i < len(tokens) - 1:\n",
    "                    pair = (tokens[i], tokens[i+1])\n",
    "                    if pair in self.bpe_merges:\n",
    "                        merged_token_id = self.bpe_merges[pair]\n",
    "                        new_tokens.append(merged_token_id)\n",
    "\n",
    "                        i += 2\n",
    "                        can_merge = True\n",
    "                    else:\n",
    "                        new_tokens.append(tokens[i])\n",
    "                        i += 1\n",
    "                \n",
    "                if i < len(tokens):\n",
    "                    new_tokens.append(tokens[i])\n",
    "\n",
    "                tokens = new_tokens\n",
    "                \n",
    "            return tokens\n",
    "\n",
    "    def decode(self, tokens):\n",
    "\n",
    "        decoded_string = \"\"\n",
    "        for i, token_id in enumerate(tokens):\n",
    "            if token_id not in self.vocab:\n",
    "                raise ValueError(f\"Token id {token_id} not foudn in vocab\")\n",
    "            \n",
    "            token = self.vocab[token_id]\n",
    "            if token == \"\\n\":\n",
    "                if decoded_string and not decoded_string.endswith(\" \"):\n",
    "                    decoded_string += \" \"\n",
    "                decoded_string += token\n",
    "            elif token.startswith(self.spc_char):\n",
    "                decoded_string += \" \" + token[1:]\n",
    "            else:\n",
    "                decoded_string += token\n",
    "        \n",
    "        return decoded_string\n",
    "\n",
    "    def save_vocab_and_merges(self, vocab_path, merges_path):\n",
    "        with open(vocab_path, \"w\", encoding=\"utf-8\") as file:\n",
    "            json.dump(self.vocab, file, ensure_ascii=False, indent=2)\n",
    "\n",
    "        with open(merges_path, \"w\", encoding=\"utf-8\") as file:\n",
    "            merges_list = [{\"pair\": list(pair), \"new_id\": new_id} for pair, new_id in self.bpe_merges.items()]\n",
    "            json.dump(merges_list, file, ensure_ascii=False, indent=2)\n",
    "\n",
    "    def load_vocab_and_merges(self, vocab_path, merges_path):\n",
    "        with open(vocab_path, \"r\", encoding=\"utf-8\") as file:\n",
    "            data_loaded = json.load(file)\n",
    "            self.vocab = {int(k): v for k, v in data_loaded.items()}\n",
    "            self.inverse_vocab = {v: int(k) for k, v in data_loaded.items()}\n",
    "\n",
    "        with open(merges_path, \"r\", encoding=\"utf-8\") as file:\n",
    "            data_loaded = json.load(file)\n",
    "            for merge in data_loaded:\n",
    "                pair = tuple(merge[\"pair\"])\n",
    "                new_id = merge[\"new_id\"]\n",
    "                self.bpe_merges[pair] = new_id\n",
    "\n",
    "    @staticmethod\n",
    "    def find_freq_pair(tokens, mode='most'):\n",
    "        pairs = Counter(zip(tokens, tokens[1:]))\n",
    "\n",
    "        if not pairs:\n",
    "            return None\n",
    "        \n",
    "        if mode == 'most':\n",
    "            return max(pairs.items(), key=lambda x: x[1])[0]\n",
    "        elif mode == 'least':\n",
    "            return min(pairs.items(), key= lambda x: x[1])[0]\n",
    "        else:\n",
    "            raise ValueError(\"Invalid mode. Choose 'most' or 'least'.\")\n",
    "        \n",
    "    @staticmethod\n",
    "    def replace_pair(tokens, pair_id, new_id):\n",
    "        dq = deque(tokens)\n",
    "        replaced = []\n",
    "\n",
    "        while dq:\n",
    "            current = dq.popleft()\n",
    "            if dq and (current, dq[0]) == pair_id:\n",
    "                replaced.append(new_id)\n",
    "                dq.popleft()\n",
    "            else:\n",
    "                replaced.append(current)\n",
    "        \n",
    "        return replaced\n",
    "\n"
   ]
  },
  {
   "cell_type": "markdown",
   "id": "8a610700",
   "metadata": {},
   "source": [
    "## Training the tokenizer, using \"The Verdict\""
   ]
  },
  {
   "cell_type": "code",
   "execution_count": 5,
   "id": "3a801ca2",
   "metadata": {},
   "outputs": [],
   "source": [
    "with open(\"data/the-verdict.txt\", \"r\", encoding=\"utf-8\") as f: # added ../01_main-chapter-code/\n",
    "    text = f.read()"
   ]
  },
  {
   "cell_type": "code",
   "execution_count": 6,
   "id": "011996df",
   "metadata": {},
   "outputs": [],
   "source": [
    "tokenizer = BPETokenizerSimple()\n",
    "tokenizer.train(text, vocab_size=1000, allowed_special={\"<|endoftext|>\"})"
   ]
  },
  {
   "cell_type": "code",
   "execution_count": 7,
   "id": "7fd28107",
   "metadata": {},
   "outputs": [
    {
     "name": "stdout",
     "output_type": "stream",
     "text": [
      "1000\n",
      "742\n"
     ]
    }
   ],
   "source": [
    "print(len(tokenizer.vocab))\n",
    "print(len(tokenizer.bpe_merges))"
   ]
  },
  {
   "cell_type": "code",
   "execution_count": 8,
   "id": "0a5a4ba0",
   "metadata": {},
   "outputs": [
    {
     "name": "stdout",
     "output_type": "stream",
     "text": [
      "[424, 256, 654, 531, 302, 311, 256, 296, 97, 465, 121, 595, 841, 116, 287, 466, 256, 326, 972, 46]\n"
     ]
    }
   ],
   "source": [
    "# testing the tokenizer\n",
    "input_text = \"Jack embraced beauty through art and life.\"\n",
    "token_ids = tokenizer.encode(input_text)\n",
    "print(token_ids)"
   ]
  },
  {
   "cell_type": "code",
   "execution_count": 9,
   "id": "dc4f37e1",
   "metadata": {},
   "outputs": [
    {
     "name": "stdout",
     "output_type": "stream",
     "text": [
      "Number of characters: 42\n",
      "Number of token IDs: 20\n"
     ]
    }
   ],
   "source": [
    "print(\"Number of characters:\", len(input_text))\n",
    "print(\"Number of token IDs:\", len(token_ids))"
   ]
  },
  {
   "cell_type": "code",
   "execution_count": 10,
   "id": "66d33120",
   "metadata": {},
   "outputs": [
    {
     "name": "stdout",
     "output_type": "stream",
     "text": [
      "Jack embraced beauty through art and life.\n"
     ]
    }
   ],
   "source": [
    "# decoding the message back\n",
    "print(tokenizer.decode(token_ids))"
   ]
  },
  {
   "cell_type": "code",
   "execution_count": 11,
   "id": "bd6dd21a",
   "metadata": {},
   "outputs": [],
   "source": [
    "vocab_path = \"tokenizer/vocabulary.json\"\n",
    "merges_path = \"tokenizer/merges.json\"\n",
    "\n",
    "# save the tokenizer vocab and merges\n",
    "tokenizer.save_vocab_and_merges(vocab_path, merges_path) "
   ]
  },
  {
   "cell_type": "code",
   "execution_count": 12,
   "id": "19cda801",
   "metadata": {},
   "outputs": [],
   "source": [
    "# test loading from file\n",
    "tokenizer.load_vocab_and_merges(vocab_path, merges_path) "
   ]
  }
 ],
 "metadata": {
  "kernelspec": {
   "display_name": ".venv",
   "language": "python",
   "name": "python3"
  },
  "language_info": {
   "codemirror_mode": {
    "name": "ipython",
    "version": 3
   },
   "file_extension": ".py",
   "mimetype": "text/x-python",
   "name": "python",
   "nbconvert_exporter": "python",
   "pygments_lexer": "ipython3",
   "version": "3.11.9"
  }
 },
 "nbformat": 4,
 "nbformat_minor": 5
}
