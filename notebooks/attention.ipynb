{
 "cells": [
  {
   "cell_type": "code",
   "execution_count": 4,
   "id": "1877a5c0",
   "metadata": {},
   "outputs": [],
   "source": [
    "import torch\n",
    "\n",
    "inputs = torch.tensor(\n",
    "  [[0.43, 0.15, 0.89], # Your     (x^1)\n",
    "   [0.55, 0.87, 0.66], # journey  (x^2)\n",
    "   [0.57, 0.85, 0.64], # starts   (x^3)\n",
    "   [0.22, 0.58, 0.33], # with     (x^4)\n",
    "   [0.77, 0.25, 0.10], # one      (x^5)\n",
    "   [0.05, 0.80, 0.55]] # step     (x^6)\n",
    ")"
   ]
  },
  {
   "cell_type": "markdown",
   "id": "2fceeba3",
   "metadata": {},
   "source": [
    "## Simple self-attention"
   ]
  },
  {
   "cell_type": "code",
   "execution_count": 24,
   "id": "6b4cf354",
   "metadata": {},
   "outputs": [
    {
     "data": {
      "text/plain": [
       "tensor([[0.4421, 0.5931, 0.5790],\n",
       "        [0.4419, 0.6515, 0.5683],\n",
       "        [0.4431, 0.6496, 0.5671],\n",
       "        [0.4304, 0.6298, 0.5510],\n",
       "        [0.4671, 0.5910, 0.5266],\n",
       "        [0.4177, 0.6503, 0.5645]])"
      ]
     },
     "execution_count": 24,
     "metadata": {},
     "output_type": "execute_result"
    }
   ],
   "source": [
    "# simple self-attention mechanism\n",
    "context_size = inputs.shape[0]\n",
    "a_scores = torch.empty((context_size, context_size))\n",
    "\n",
    "# 1st step is to compute the attention scores. Bellow we calculate them for all inputs.\n",
    "# This kinda calculates how the embeddings of a token relate to the other tokens in the same context \n",
    "a_scores = inputs @ inputs.T\n",
    "\n",
    "# then we apply softmax to normalize into the attention weight\n",
    "attention = torch.softmax(a_scores, dim=1)\n",
    "\n",
    "context_vector = attention @ inputs\n",
    "\n",
    "context_vector"
   ]
  },
  {
   "cell_type": "markdown",
   "id": "0c899386",
   "metadata": {},
   "source": [
    "## Self-attention with trainable weights"
   ]
  },
  {
   "cell_type": "code",
   "execution_count": 27,
   "id": "9ac3ad05",
   "metadata": {},
   "outputs": [],
   "source": [
    "# Self-attention with trainable weights\n",
    "x_2 = inputs[1]\n",
    "d_in = inputs.shape[1]\n",
    "\n",
    "d_out = 2"
   ]
  },
  {
   "cell_type": "code",
   "execution_count": 36,
   "id": "3ba8b7ab",
   "metadata": {},
   "outputs": [],
   "source": [
    "torch.manual_seed(123)\n",
    "\n",
    "W_query = torch.nn.Parameter(torch.rand(d_in, d_out))\n",
    "W_keys = torch.nn.Parameter(torch.rand(d_in, d_out))\n",
    "W_values = torch.nn.Parameter(torch.rand(d_in, d_out))"
   ]
  },
  {
   "cell_type": "code",
   "execution_count": 37,
   "id": "d3a85f6e",
   "metadata": {},
   "outputs": [],
   "source": [
    "query_2 = x_2 @ W_query\n",
    "keys = inputs @ W_keys\n",
    "values = inputs @ W_values"
   ]
  },
  {
   "cell_type": "code",
   "execution_count": null,
   "id": "96cba075",
   "metadata": {},
   "outputs": [
    {
     "data": {
      "text/plain": [
       "tensor([0.1500, 0.2264, 0.2199, 0.1311, 0.0906, 0.1820],\n",
       "       grad_fn=<SoftmaxBackward0>)"
      ]
     },
     "execution_count": 49,
     "metadata": {},
     "output_type": "execute_result"
    }
   ],
   "source": [
    "d_k = keys.shape[1]\n",
    "\n",
    "att_score = keys @ query_2\n",
    "att_score = torch.softmax(att_score / d_k**0.5, dim=-1)\n",
    "att = att_score @ values\n",
    "att"
   ]
  },
  {
   "cell_type": "markdown",
   "id": "8621f4f8",
   "metadata": {},
   "source": [
    "## Creating a class for a Self-atention"
   ]
  },
  {
   "cell_type": "code",
   "execution_count": 65,
   "id": "e7696d15",
   "metadata": {},
   "outputs": [],
   "source": [
    "class SelfAttention_v1(torch.nn.Module):\n",
    "    def __init__(self, d_in, d_out):\n",
    "        super().__init__()\n",
    "        self.W_queries = torch.nn.Parameter(torch.rand(d_in, d_out))\n",
    "        self.W_keys = torch.nn.Parameter(torch.rand(d_in, d_out))\n",
    "        self.W_values = torch.nn.Parameter(torch.rand(d_in, d_out))\n",
    "\n",
    "    def forward(self, x):\n",
    "        queries = x @ self.W_queries\n",
    "        keys = x @ self.W_keys\n",
    "        values = x @ self.W_values\n",
    "\n",
    "        att_scores = queries @ keys.T\n",
    "        att_scores = torch.softmax(att_scores / d_out**0.5, dim=-1)\n",
    "\n",
    "        context_vector = att_scores @ values\n",
    "\n",
    "        return context_vector\n",
    "    \n",
    "\n",
    "class SelfAttention_v2(torch.nn.Module):\n",
    "    def __init__(self, d_in, d_out, qkv_bias=False):\n",
    "        super().__init__()\n",
    "        self.W_queries = torch.nn.Linear(d_in, d_out, bias=qkv_bias)\n",
    "        self.W_keys = torch.nn.Linear(d_in, d_out, bias=qkv_bias)\n",
    "        self.W_values = torch.nn.Linear(d_in, d_out, bias=qkv_bias)\n",
    "\n",
    "    def forward(self, x):\n",
    "        queries = self.W_queries(x)\n",
    "        keys = self.W_keys(x)\n",
    "        values = self.W_values(x)\n",
    "\n",
    "        att_scores = queries @ keys.T\n",
    "        att_scores = torch.softmax(att_scores / d_out**0.5, dim=-1)\n",
    "\n",
    "        context_vector = att_scores @ values\n",
    "\n",
    "        return context_vector"
   ]
  },
  {
   "cell_type": "code",
   "execution_count": 67,
   "id": "d5562d77",
   "metadata": {},
   "outputs": [
    {
     "data": {
      "text/plain": [
       "tensor([[0.1712, 0.1184],\n",
       "        [0.1750, 0.1207],\n",
       "        [0.1751, 0.1208],\n",
       "        [0.1751, 0.1209],\n",
       "        [0.1764, 0.1215],\n",
       "        [0.1743, 0.1205]], grad_fn=<MmBackward0>)"
      ]
     },
     "execution_count": 67,
     "metadata": {},
     "output_type": "execute_result"
    }
   ],
   "source": [
    "torch.manual_seed(42)\n",
    "\n",
    "d_in = inputs.shape[1]\n",
    "d_out = 2\n",
    "\n",
    "self_att_1 = SelfAttention_v1(d_in, d_out)\n",
    "context = self_att_1.forward(inputs)\n",
    "context\n",
    "\n",
    "self_att_2 = SelfAttention_v2(d_in, d_out)\n",
    "context = self_att_2.forward(inputs)\n",
    "context"
   ]
  },
  {
   "cell_type": "markdown",
   "id": "f6213fc7",
   "metadata": {},
   "source": [
    "## Causal attention mask"
   ]
  },
  {
   "cell_type": "code",
   "execution_count": null,
   "id": "3c2ce5d2",
   "metadata": {},
   "outputs": [
    {
     "data": {
      "text/plain": [
       "torch.Size([2, 6, 3])"
      ]
     },
     "execution_count": 19,
     "metadata": {},
     "output_type": "execute_result"
    }
   ],
   "source": [
    "import torch\n",
    "\n",
    "# create an artificial batch\n",
    "batch = torch.stack((inputs, inputs), dim=0)\n",
    "batch.shape"
   ]
  },
  {
   "cell_type": "code",
   "execution_count": 28,
   "id": "4a98c4bd",
   "metadata": {},
   "outputs": [],
   "source": [
    "import torch\n",
    "\n",
    "class CausalSelfAttention_v1(torch.nn.Module):\n",
    "    def __init__(self, d_in, d_out, context_length, dropout=0.0, qkv_bias=False):\n",
    "        super().__init__()\n",
    "        self.W_queries = torch.nn.Linear(d_in, d_out, bias=qkv_bias)\n",
    "        self.W_keys = torch.nn.Linear(d_in, d_out, bias=qkv_bias)\n",
    "        self.W_values = torch.nn.Linear(d_in, d_out, bias=qkv_bias)\n",
    "\n",
    "        # causal mask\n",
    "        self.register_buffer(\"causal_mask\", torch.triu(torch.ones(context_length, context_length), diagonal=1))\n",
    "\n",
    "        # dropout mask\n",
    "        self.dropout = torch.nn.Dropout(dropout)\n",
    "\n",
    "        \n",
    "\n",
    "    def forward(self, x):\n",
    "        b, num_tokens, d_in = x.shape\n",
    "\n",
    "        queries = self.W_queries(x)\n",
    "        keys = self.W_keys(x)\n",
    "        values = self.W_values(x)\n",
    "\n",
    "        att_scores = queries @ keys.transpose(1, 2)\n",
    "        att_scores.masked_fill_(\n",
    "            self.causal_mask.bool()[:num_tokens, :num_tokens], -torch.inf\n",
    "        )\n",
    "\n",
    "        att_scores = torch.softmax(att_scores / d_in**0.5, dim=-1)\n",
    "\n",
    "        att_scores = self.dropout(att_scores)\n",
    "\n",
    "        context_vector = att_scores @ values\n",
    "        return context_vector"
   ]
  },
  {
   "cell_type": "code",
   "execution_count": 27,
   "id": "65de1420",
   "metadata": {},
   "outputs": [
    {
     "data": {
      "text/plain": [
       "tensor([[[-0.4519,  0.2216],\n",
       "         [-0.5866,  0.0071],\n",
       "         [-0.6293, -0.0621],\n",
       "         [-0.5670, -0.0838],\n",
       "         [-0.5519, -0.0979],\n",
       "         [-0.5295, -0.1077]],\n",
       "\n",
       "        [[-0.4519,  0.2216],\n",
       "         [-0.5866,  0.0071],\n",
       "         [-0.6293, -0.0621],\n",
       "         [-0.5670, -0.0838],\n",
       "         [-0.5519, -0.0979],\n",
       "         [-0.5295, -0.1077]]], grad_fn=<UnsafeViewBackward0>)"
      ]
     },
     "execution_count": 27,
     "metadata": {},
     "output_type": "execute_result"
    }
   ],
   "source": [
    "torch.manual_seed(123)\n",
    "\n",
    "d_in = inputs.shape[1]\n",
    "d_out = 2\n",
    "\n",
    "csl_self_att = CausalSelfAttention_v1(d_in, d_out, context_length=inputs.shape[0])\n",
    "context = csl_self_att.forward(batch)\n",
    "context"
   ]
  },
  {
   "cell_type": "markdown",
   "id": "c6982f18",
   "metadata": {},
   "source": [
    "## Multi Head Attention"
   ]
  },
  {
   "cell_type": "code",
   "execution_count": 32,
   "id": "1f97c954",
   "metadata": {},
   "outputs": [
    {
     "data": {
      "text/plain": [
       "tensor([[[-0.4519,  0.2216,  0.4772,  0.1063],\n",
       "         [-0.5866,  0.0071,  0.5869,  0.3214],\n",
       "         [-0.6293, -0.0621,  0.6184,  0.3825],\n",
       "         [-0.5670, -0.0838,  0.5474,  0.3575],\n",
       "         [-0.5519, -0.0979,  0.5319,  0.3423],\n",
       "         [-0.5295, -0.1077,  0.5074,  0.3481]],\n",
       "\n",
       "        [[-0.4519,  0.2216,  0.4772,  0.1063],\n",
       "         [-0.5866,  0.0071,  0.5869,  0.3214],\n",
       "         [-0.6293, -0.0621,  0.6184,  0.3825],\n",
       "         [-0.5670, -0.0838,  0.5474,  0.3575],\n",
       "         [-0.5519, -0.0979,  0.5319,  0.3423],\n",
       "         [-0.5295, -0.1077,  0.5074,  0.3481]]], grad_fn=<CatBackward0>)"
      ]
     },
     "execution_count": 32,
     "metadata": {},
     "output_type": "execute_result"
    }
   ],
   "source": [
    "import torch\n",
    "\n",
    "class MultiHeadAttentionWrapper(torch.nn.Module):\n",
    "    def __init__(self, num_heads, d_in, d_out, context_length, dropout=0.0, qkv_bias=False):\n",
    "        super().__init__()\n",
    "        self.heads = torch.nn.ModuleList([\n",
    "            CausalSelfAttention_v1(d_in, d_out, context_length, dropout, qkv_bias) for _ in range(num_heads)\n",
    "        ])        \n",
    "\n",
    "    def forward(self, x):\n",
    "        return torch.cat([head(x) for head in self.heads], dim=-1)\n",
    "    \n",
    "\n",
    "torch.manual_seed(123)\n",
    "\n",
    "d_in = inputs.shape[1]\n",
    "d_out = 2\n",
    "\n",
    "multihead = MultiHeadAttentionWrapper(2, d_in, d_out, context_length=inputs.shape[0])\n",
    "context = multihead.forward(batch)\n",
    "context"
   ]
  },
  {
   "cell_type": "code",
   "execution_count": null,
   "id": "4ac76b41",
   "metadata": {},
   "outputs": [],
   "source": [
    "# Multi Head optimized (removing the sequential calls to the causal self attention)\n",
    "\n",
    "class MultiHeadAttention(torch.nn.Module):\n",
    "    def __init__(self, num_heads, d_in, d_out, context_length, dropout=0.0, qkv_bias=False):\n",
    "        super().__init__()\n",
    "        assert (d_out % num_heads == 0), \"d_out must be divisible by num_heads\"\n",
    "\n",
    "        self.d_out = d_out\n",
    "        self.num_heads = num_heads\n",
    "        self.d_head = d_out // num_heads\n",
    "\n",
    "        self.W_queries = torch.nn.Linear(d_in, d_out, bias=qkv_bias)\n",
    "        self.W_keys = torch.nn.Linear(d_in, d_out, bias=qkv_bias)\n",
    "        self.W_values = torch.nn.Linear(d_in, d_out, bias=qkv_bias)\n",
    "\n",
    "        self.out_proj = torch.nn.Linear(d_out, d_out)\n",
    "\n",
    "        # causal mask\n",
    "        self.register_buffer(\"causal_mask\", torch.triu(torch.ones(context_length, context_length), diagonal=1))\n",
    "\n",
    "        # dropout mask\n",
    "        self.dropout = torch.nn.Dropout(dropout)\n",
    "\n",
    "\n",
    "    def forward(self, x):\n",
    "        b, num_tokens, d_in = x.shape\n",
    "\n",
    "        # we split the matrices by adding a new dimension (d_head)\n",
    "        queries = self.W_queries(x)\n",
    "        queries = queries.view(b, num_tokens, self.num_heads, self.d_head)\n",
    "        queries = queries.transpose(1, 2)\n",
    "\n",
    "        keys = self.W_keys(x)\n",
    "        keys = keys.view(b, num_tokens, self.num_heads, self.d_head)\n",
    "        keys = keys.transpose(1, 2)\n",
    "\n",
    "        values = self.W_values(x)\n",
    "        values = values.view(b, num_tokens, self.num_heads, self.d_head)\n",
    "        values = values.transpose(1, 2)\n",
    "\n",
    "        att_scores = queries @ keys.transpose(2, 3)\n",
    "        att_scores.masked_fill_(\n",
    "            self.causal_mask.bool()[:num_tokens, :num_tokens], -torch.inf\n",
    "        )\n",
    "\n",
    "        att_scores = torch.softmax(att_scores / keys.shape[-1]**0.5, dim=-1)\n",
    "\n",
    "        att_scores = self.dropout(att_scores)\n",
    "\n",
    "        context_vector = (att_scores @ values).transpose(1,2) \n",
    "\n",
    "        # Combine the results from each head\n",
    "        context_vector = context_vector.contiguous().view(b, num_tokens, d_out) # \"equivalent\" to reshape()\n",
    "        context_vector = self.out_proj(context_vector)\n",
    "        return context_vector"
   ]
  },
  {
   "cell_type": "code",
   "execution_count": 36,
   "id": "1023bc8e",
   "metadata": {},
   "outputs": [
    {
     "data": {
      "text/plain": [
       "tensor([[[ 0.1184,  0.3120, -0.0847, -0.5774],\n",
       "         [ 0.0178,  0.3221, -0.0763, -0.4225],\n",
       "         [-0.0147,  0.3259, -0.0734, -0.3721],\n",
       "         [-0.0116,  0.3138, -0.0708, -0.3624],\n",
       "         [-0.0117,  0.2973, -0.0698, -0.3543],\n",
       "         [-0.0132,  0.2990, -0.0689, -0.3490]],\n",
       "\n",
       "        [[ 0.1184,  0.3120, -0.0847, -0.5774],\n",
       "         [ 0.0178,  0.3221, -0.0763, -0.4225],\n",
       "         [-0.0147,  0.3259, -0.0734, -0.3721],\n",
       "         [-0.0116,  0.3138, -0.0708, -0.3624],\n",
       "         [-0.0117,  0.2973, -0.0698, -0.3543],\n",
       "         [-0.0132,  0.2990, -0.0689, -0.3490]]], grad_fn=<ViewBackward0>)"
      ]
     },
     "execution_count": 36,
     "metadata": {},
     "output_type": "execute_result"
    }
   ],
   "source": [
    "torch.manual_seed(123)\n",
    "\n",
    "d_in = inputs.shape[1]\n",
    "d_out = 4\n",
    "\n",
    "multihead = MultiHeadAttention(2, d_in, d_out, context_length=inputs.shape[0])\n",
    "context = multihead.forward(batch)\n",
    "context"
   ]
  }
 ],
 "metadata": {
  "kernelspec": {
   "display_name": ".venv",
   "language": "python",
   "name": "python3"
  },
  "language_info": {
   "codemirror_mode": {
    "name": "ipython",
    "version": 3
   },
   "file_extension": ".py",
   "mimetype": "text/x-python",
   "name": "python",
   "nbconvert_exporter": "python",
   "pygments_lexer": "ipython3",
   "version": "3.11.9"
  }
 },
 "nbformat": 4,
 "nbformat_minor": 5
}
