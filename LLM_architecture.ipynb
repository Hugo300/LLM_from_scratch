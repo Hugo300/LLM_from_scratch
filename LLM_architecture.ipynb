{
 "cells": [
  {
   "cell_type": "markdown",
   "id": "c9fc363f",
   "metadata": {},
   "source": [
    "# Coding LLM architecture"
   ]
  },
  {
   "cell_type": "code",
   "execution_count": null,
   "id": "589bcb9c",
   "metadata": {},
   "outputs": [],
   "source": [
    "import torch\n",
    "import torch.nn as nn\n",
    "\n",
    "from classes.attention import MultiHeadAttention\n",
    "from classes.activation import GELU\n",
    "\n",
    "class GPTModel(nn.Module):\n",
    "    def __init__(self, cfg):\n",
    "        super().__init__()\n",
    "\n",
    "        self.token_emb = nn.Embedding(cfg['vocab_size'], cfg[\"emb_dim\"])\n",
    "        self.position_emb = nn.Embedding(cfg['context_length'], cfg[\"emb_dim\"])\n",
    "        self.drop_emb = nn.Dropout(cfg['drop_rate'])\n",
    "\n",
    "        self.trf_blocks = nn.Sequential(\n",
    "            *[TransformerBlock(cfg) for _ in range(cfg['n_layers'])]\n",
    "        )\n",
    "\n",
    "        self.final_norm = LayerNormalization(cfg[\"emb_dim\"])\n",
    "        self.output_layer = nn.Linear(cfg['emb_dim'], cfg[\"vocab_size\"], bias=False)\n",
    "    \n",
    "    def forward(self, in_indexes):\n",
    "        bacth_size, sequence_shape = in_indexes.shape\n",
    "\n",
    "        tok_embeds = self.token_emb(in_indexes)\n",
    "        pos_embeds = self.position_emb(torch.arange(sequence_shape, device=in_indexes.device))\n",
    "\n",
    "        x = tok_embeds + pos_embeds\n",
    "        x = self.drop_emb(x)\n",
    "        x = self.trf_blocks(x)\n",
    "        x = self.final_norm(x)\n",
    "\n",
    "        logits = self.output_layer(x)\n",
    "        return logits\n",
    "\n",
    "    def backward(self):\n",
    "        pass\n",
    "    \n",
    "\n",
    "class LayerNormalization(nn.Module):\n",
    "    def __init__(self, length):\n",
    "        super().__init__()\n",
    "\n",
    "        self.eps = 1e-5\n",
    "        self.scale = nn.Parameter(torch.ones(length))\n",
    "        self.shift = nn.Parameter(torch.zeros(length))\n",
    "\n",
    "    def forward(self, x):\n",
    "        mean = x.mean(dim=-1, keepdim=True)\n",
    "        var = x.var(dim=-1, keepdim=True, unbiased=False)\n",
    "\n",
    "        norm_x = (x - mean) / torch.sqrt(var + self.eps)\n",
    "        return self.scale * norm_x + self.shift    \n",
    "\n",
    "# Feed Forward (the basic building block for the transformer block)\n",
    "class FeedForward(nn.Module):\n",
    "    def __init__(self, cfg, expansion_rate=4):\n",
    "        super().__init__()\n",
    "\n",
    "        self.layers = nn.Sequential(\n",
    "            nn.Linear(cfg[\"emb_dim\"], expansion_rate * cfg[\"emb_dim\"]),\n",
    "            GELU(),\n",
    "            nn.Linear(expansion_rate * cfg[\"emb_dim\"], cfg[\"emb_dim\"]),\n",
    "        )\n",
    "\n",
    "    def forward(self, x):\n",
    "        return self.layers(x)\n",
    "\n",
    "\n",
    "class TransformerBlock(nn.Module):\n",
    "    def __init__(self, cfg):\n",
    "        super().__init__()\n",
    "\n",
    "        self.attention = MultiHeadAttention(\n",
    "            d_in=cfg[\"emb_dim\"],\n",
    "            d_out=cfg[\"emb_dim\"],\n",
    "            context_length=cfg[\"context_length\"],\n",
    "            num_heads=cfg[\"n_heads\"],\n",
    "            dropout=cfg[\"drop_rate\"],\n",
    "            qkv_bias=cfg[\"qkv_bias\"]\n",
    "        )\n",
    "        self.fforward = FeedForward(cfg)\n",
    "        self.norm_1 = LayerNormalization(cfg[\"emb_dim\"])\n",
    "        self.norm_2 = LayerNormalization(cfg[\"emb_dim\"])\n",
    "        self.drop_shortcut = nn.Dropout(cfg[\"drop_rate\"])\n",
    "\n",
    "    def forward(self, x):\n",
    "        short = x\n",
    "        x = self.norm_1(x)\n",
    "        x = self.attention(x)\n",
    "        x = self.drop_shortcut(x)\n",
    "        x  = x + short\n",
    "\n",
    "        short = x\n",
    "        x = self.norm_2(x)\n",
    "        x = self.fforward(x)\n",
    "        x = self.drop_shortcut(x)\n",
    "        x = x + short\n",
    "        return x"
   ]
  },
  {
   "cell_type": "code",
   "execution_count": 27,
   "id": "3107a49f",
   "metadata": {},
   "outputs": [],
   "source": [
    "GPT_CONFIG = {\n",
    "    \"vocab_size\": 50257,\n",
    "    \"context_length\": 1024,\n",
    "    \"emb_dim\": 768,\n",
    "    \"n_heads\": 12,\n",
    "    \"n_layers\": 12,\n",
    "    \"drop_rate\": 0.1,\n",
    "    \"qkv_bias\": False \n",
    "}"
   ]
  },
  {
   "cell_type": "code",
   "execution_count": 28,
   "id": "d49231e8",
   "metadata": {},
   "outputs": [
    {
     "name": "stdout",
     "output_type": "stream",
     "text": [
      "tensor([[6109, 3626, 6100,  345],\n",
      "        [6109, 1110, 6622,  257]])\n"
     ]
    }
   ],
   "source": [
    "import tiktoken\n",
    "\n",
    "tokenizer = tiktoken.get_encoding(\"gpt2\")\n",
    "\n",
    "batch = []\n",
    "\n",
    "txt1 = \"Every effort moves you\"\n",
    "txt2 = \"Every day holds a\"\n",
    "\n",
    "batch.append(torch.tensor(tokenizer.encode(txt1)))\n",
    "batch.append(torch.tensor(tokenizer.encode(txt2)))\n",
    "batch = torch.stack(batch, dim=0)\n",
    "print(batch)"
   ]
  },
  {
   "cell_type": "code",
   "execution_count": null,
   "id": "ce1823b3",
   "metadata": {},
   "outputs": [
    {
     "name": "stdout",
     "output_type": "stream",
     "text": [
      "torch.Size([2, 4, 50257])\n"
     ]
    }
   ],
   "source": [
    "torch.manual_seed(123)\n",
    "\n",
    "model = GPTModel(cfg=GPT_CONFIG)\n",
    "logits = model(batch)\n",
    "print(logits.shape)"
   ]
  },
  {
   "cell_type": "code",
   "execution_count": 32,
   "id": "df2df2aa",
   "metadata": {},
   "outputs": [
    {
     "data": {
      "text/plain": [
       "163009536"
      ]
     },
     "execution_count": 32,
     "metadata": {},
     "output_type": "execute_result"
    }
   ],
   "source": [
    "total_params = sum(p.numel() for p in model.parameters())\n",
    "total_params"
   ]
  },
  {
   "cell_type": "markdown",
   "id": "1490ffa6",
   "metadata": {},
   "source": [
    "## Text Generation"
   ]
  },
  {
   "cell_type": "code",
   "execution_count": 42,
   "id": "9ab49288",
   "metadata": {},
   "outputs": [],
   "source": [
    "def generate_text_simple(model, idx, max_new_tokens, context_size):\n",
    "\n",
    "    for _ in range(max_new_tokens):\n",
    "        context = idx[:, -context_size:]\n",
    "\n",
    "        with torch.no_grad():\n",
    "            logits = model(context)\n",
    "        prob = torch.softmax(logits[:, -1, :], dim=-1)\n",
    "        new_idx = torch.argmax(prob, dim=-1, keepdim=True)\n",
    "\n",
    "        idx = torch.cat((idx, new_idx), dim=1)\n",
    "\n",
    "    return idx\n"
   ]
  },
  {
   "cell_type": "code",
   "execution_count": 39,
   "id": "ca1be3a5",
   "metadata": {},
   "outputs": [
    {
     "data": {
      "text/plain": [
       "tensor([[15496,    11,   314,   716]])"
      ]
     },
     "execution_count": 39,
     "metadata": {},
     "output_type": "execute_result"
    }
   ],
   "source": [
    "start_context = \"Hello, I am\"\n",
    "encoded = tokenizer.encode(start_context)\n",
    "\n",
    "encoded_tensor = torch.tensor(encoded).unsqueeze(0)\n",
    "encoded_tensor"
   ]
  },
  {
   "cell_type": "code",
   "execution_count": 43,
   "id": "b2e12f86",
   "metadata": {},
   "outputs": [
    {
     "data": {
      "text/plain": [
       "tensor([[15496,    11,   314,   716, 27018, 24086, 47843, 30961, 38891, 34320,\n",
       "          6074, 16187, 32054,  3059]])"
      ]
     },
     "execution_count": 43,
     "metadata": {},
     "output_type": "execute_result"
    }
   ],
   "source": [
    "new_encoded = generate_text_simple(model, encoded_tensor, 10, context_size=GPT_CONFIG[\"context_length\"])\n",
    "new_encoded "
   ]
  },
  {
   "cell_type": "code",
   "execution_count": 47,
   "id": "1b123ffa",
   "metadata": {},
   "outputs": [
    {
     "data": {
      "text/plain": [
       "'Hello, I am Featureiman Byeswick palpMust payment shadowszman Sch'"
      ]
     },
     "execution_count": 47,
     "metadata": {},
     "output_type": "execute_result"
    }
   ],
   "source": [
    "tokenizer.decode(new_encoded.squeeze(0).tolist())"
   ]
  }
 ],
 "metadata": {
  "kernelspec": {
   "display_name": ".venv",
   "language": "python",
   "name": "python3"
  },
  "language_info": {
   "codemirror_mode": {
    "name": "ipython",
    "version": 3
   },
   "file_extension": ".py",
   "mimetype": "text/x-python",
   "name": "python",
   "nbconvert_exporter": "python",
   "pygments_lexer": "ipython3",
   "version": "3.11.9"
  }
 },
 "nbformat": 4,
 "nbformat_minor": 5
}
